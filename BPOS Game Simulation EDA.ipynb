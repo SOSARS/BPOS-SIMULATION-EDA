{
 "cells": [
  {
   "cell_type": "markdown",
   "id": "ca117f39",
   "metadata": {},
   "source": [
    "# Exploratory Data Analysis (EDA) on BPOS Game Simulation\n",
    "<br><br>\n",
    "Link: https://bpos.e4s.games/\n",
    "<br><br>\n",
    "A statistical analysis on the performance of the factory in the BPOS game simulation that simulates a supply chain network and supply chain processes via a fun, interactive, and user-friendly interface."
   ]
  },
  {
   "cell_type": "markdown",
   "id": "72dd0aed",
   "metadata": {},
   "source": [
    "## Imports & Database Connection"
   ]
  },
  {
   "cell_type": "code",
   "execution_count": 3,
   "id": "4a1d765b",
   "metadata": {},
   "outputs": [],
   "source": [
    "import pymysql\n",
    "import pandas"
   ]
  },
  {
   "cell_type": "code",
   "execution_count": 4,
   "id": "df072ff5",
   "metadata": {},
   "outputs": [],
   "source": [
    "import seaborn as sns\n",
    "import matplotlib.pyplot as plt\n",
    "import numpy"
   ]
  },
  {
   "cell_type": "code",
   "execution_count": 5,
   "id": "0c7981d9",
   "metadata": {},
   "outputs": [],
   "source": [
    "# plot style\n",
    "sns.set()"
   ]
  },
  {
   "cell_type": "code",
   "execution_count": 6,
   "id": "3ad70905",
   "metadata": {},
   "outputs": [],
   "source": [
    "# Connecting to the database\n",
    "connection = pymysql.connect(\n",
    "    host=\"bpos.e4s.games\",\n",
    "    user=\"15102706\",\n",
    "    password=\"15102706\",\n",
    "    db=\"BRCIVWET\"\n",
    ")"
   ]
  },
  {
   "cell_type": "markdown",
   "id": "f2dc91b6",
   "metadata": {},
   "source": [
    "## Data Exploration"
   ]
  },
  {
   "cell_type": "markdown",
   "id": "a0ca3d30",
   "metadata": {},
   "source": [
    "### Backlog table"
   ]
  },
  {
   "cell_type": "code",
   "execution_count": 54,
   "id": "046346ea",
   "metadata": {},
   "outputs": [],
   "source": [
    "backlog = pandas.read_sql_query(\"SELECT * FROM backlog\", connection)"
   ]
  },
  {
   "cell_type": "code",
   "execution_count": 30,
   "id": "093a78f4",
   "metadata": {},
   "outputs": [
    {
     "data": {
      "text/html": [
       "<div>\n",
       "<style scoped>\n",
       "    .dataframe tbody tr th:only-of-type {\n",
       "        vertical-align: middle;\n",
       "    }\n",
       "\n",
       "    .dataframe tbody tr th {\n",
       "        vertical-align: top;\n",
       "    }\n",
       "\n",
       "    .dataframe thead th {\n",
       "        text-align: right;\n",
       "    }\n",
       "</style>\n",
       "<table border=\"1\" class=\"dataframe\">\n",
       "  <thead>\n",
       "    <tr style=\"text-align: right;\">\n",
       "      <th></th>\n",
       "      <th>round</th>\n",
       "      <th>product</th>\n",
       "      <th>amount</th>\n",
       "    </tr>\n",
       "  </thead>\n",
       "  <tbody>\n",
       "    <tr>\n",
       "      <th>0</th>\n",
       "      <td>1</td>\n",
       "      <td>prod05</td>\n",
       "      <td>0</td>\n",
       "    </tr>\n",
       "    <tr>\n",
       "      <th>1</th>\n",
       "      <td>1</td>\n",
       "      <td>prod06</td>\n",
       "      <td>0</td>\n",
       "    </tr>\n",
       "    <tr>\n",
       "      <th>2</th>\n",
       "      <td>1</td>\n",
       "      <td>prod07</td>\n",
       "      <td>0</td>\n",
       "    </tr>\n",
       "    <tr>\n",
       "      <th>3</th>\n",
       "      <td>1</td>\n",
       "      <td>prod08</td>\n",
       "      <td>0</td>\n",
       "    </tr>\n",
       "    <tr>\n",
       "      <th>4</th>\n",
       "      <td>2</td>\n",
       "      <td>prod05</td>\n",
       "      <td>0</td>\n",
       "    </tr>\n",
       "    <tr>\n",
       "      <th>...</th>\n",
       "      <td>...</td>\n",
       "      <td>...</td>\n",
       "      <td>...</td>\n",
       "    </tr>\n",
       "    <tr>\n",
       "      <th>947</th>\n",
       "      <td>239</td>\n",
       "      <td>prod08</td>\n",
       "      <td>0</td>\n",
       "    </tr>\n",
       "    <tr>\n",
       "      <th>948</th>\n",
       "      <td>240</td>\n",
       "      <td>prod05</td>\n",
       "      <td>0</td>\n",
       "    </tr>\n",
       "    <tr>\n",
       "      <th>949</th>\n",
       "      <td>240</td>\n",
       "      <td>prod06</td>\n",
       "      <td>0</td>\n",
       "    </tr>\n",
       "    <tr>\n",
       "      <th>950</th>\n",
       "      <td>240</td>\n",
       "      <td>prod07</td>\n",
       "      <td>0</td>\n",
       "    </tr>\n",
       "    <tr>\n",
       "      <th>951</th>\n",
       "      <td>240</td>\n",
       "      <td>prod08</td>\n",
       "      <td>0</td>\n",
       "    </tr>\n",
       "  </tbody>\n",
       "</table>\n",
       "<p>952 rows × 3 columns</p>\n",
       "</div>"
      ],
      "text/plain": [
       "     round product  amount\n",
       "0        1  prod05       0\n",
       "1        1  prod06       0\n",
       "2        1  prod07       0\n",
       "3        1  prod08       0\n",
       "4        2  prod05       0\n",
       "..     ...     ...     ...\n",
       "947    239  prod08       0\n",
       "948    240  prod05       0\n",
       "949    240  prod06       0\n",
       "950    240  prod07       0\n",
       "951    240  prod08       0\n",
       "\n",
       "[952 rows x 3 columns]"
      ]
     },
     "execution_count": 30,
     "metadata": {},
     "output_type": "execute_result"
    }
   ],
   "source": [
    "backlog"
   ]
  },
  {
   "cell_type": "code",
   "execution_count": 20,
   "id": "81579851",
   "metadata": {},
   "outputs": [
    {
     "data": {
      "text/plain": [
       "array([    0,  2000,  5000,   100,     1,  2203,   500,  3000,  4200,\n",
       "        1000, 12000, 10000,  3001,  4000,   200,  6000, 15000,  8000,\n",
       "       21000, 17000, 14000, 22000, 19000, 16000,  5400,  1500,  3400,\n",
       "        2400,  2600, 18000,  4300,  4400,  2800, 18300,  6400,  6200,\n",
       "       19200,  4100,  1100, 20000, 13000,  7000,  9000,  5500,   400,\n",
       "         600,  6300, 12800,  9800,   900, 24000,  2200,  1900,  5900,\n",
       "        7200, 15800, 48000, 13800, 25400, 24600,   300, 25200,  7800,\n",
       "       16600,  8600,  2480,  9480,  6480, 13480, 13060, 38000, 29280,\n",
       "        3680,   800, 60000, 15660,  3240,  1600,  8240,  3300, 14400,\n",
       "       26000, 27000, 11000, 51000, 36100, 30000, 50000, 40000, 25000,\n",
       "        4500,  6500, 39000, 49000, 80000, 76000, 66000, 36000, 56000,\n",
       "       70000, 23000,  7001, 17001,  2001], dtype=int64)"
      ]
     },
     "execution_count": 20,
     "metadata": {},
     "output_type": "execute_result"
    }
   ],
   "source": [
    "backlog[\"amount\"].unique()"
   ]
  },
  {
   "cell_type": "code",
   "execution_count": 21,
   "id": "ad2ea3c9",
   "metadata": {},
   "outputs": [
    {
     "data": {
      "text/html": [
       "<div>\n",
       "<style scoped>\n",
       "    .dataframe tbody tr th:only-of-type {\n",
       "        vertical-align: middle;\n",
       "    }\n",
       "\n",
       "    .dataframe tbody tr th {\n",
       "        vertical-align: top;\n",
       "    }\n",
       "\n",
       "    .dataframe thead th {\n",
       "        text-align: right;\n",
       "    }\n",
       "</style>\n",
       "<table border=\"1\" class=\"dataframe\">\n",
       "  <thead>\n",
       "    <tr style=\"text-align: right;\">\n",
       "      <th></th>\n",
       "      <th>round</th>\n",
       "      <th>product</th>\n",
       "      <th>amount</th>\n",
       "    </tr>\n",
       "  </thead>\n",
       "  <tbody>\n",
       "    <tr>\n",
       "      <th>0</th>\n",
       "      <td>1</td>\n",
       "      <td>prod05</td>\n",
       "      <td>0</td>\n",
       "    </tr>\n",
       "    <tr>\n",
       "      <th>1</th>\n",
       "      <td>1</td>\n",
       "      <td>prod06</td>\n",
       "      <td>0</td>\n",
       "    </tr>\n",
       "    <tr>\n",
       "      <th>2</th>\n",
       "      <td>1</td>\n",
       "      <td>prod07</td>\n",
       "      <td>0</td>\n",
       "    </tr>\n",
       "    <tr>\n",
       "      <th>3</th>\n",
       "      <td>1</td>\n",
       "      <td>prod08</td>\n",
       "      <td>0</td>\n",
       "    </tr>\n",
       "    <tr>\n",
       "      <th>4</th>\n",
       "      <td>2</td>\n",
       "      <td>prod05</td>\n",
       "      <td>0</td>\n",
       "    </tr>\n",
       "    <tr>\n",
       "      <th>...</th>\n",
       "      <td>...</td>\n",
       "      <td>...</td>\n",
       "      <td>...</td>\n",
       "    </tr>\n",
       "    <tr>\n",
       "      <th>947</th>\n",
       "      <td>239</td>\n",
       "      <td>prod08</td>\n",
       "      <td>0</td>\n",
       "    </tr>\n",
       "    <tr>\n",
       "      <th>948</th>\n",
       "      <td>240</td>\n",
       "      <td>prod05</td>\n",
       "      <td>0</td>\n",
       "    </tr>\n",
       "    <tr>\n",
       "      <th>949</th>\n",
       "      <td>240</td>\n",
       "      <td>prod06</td>\n",
       "      <td>0</td>\n",
       "    </tr>\n",
       "    <tr>\n",
       "      <th>950</th>\n",
       "      <td>240</td>\n",
       "      <td>prod07</td>\n",
       "      <td>0</td>\n",
       "    </tr>\n",
       "    <tr>\n",
       "      <th>951</th>\n",
       "      <td>240</td>\n",
       "      <td>prod08</td>\n",
       "      <td>0</td>\n",
       "    </tr>\n",
       "  </tbody>\n",
       "</table>\n",
       "<p>598 rows × 3 columns</p>\n",
       "</div>"
      ],
      "text/plain": [
       "     round product  amount\n",
       "0        1  prod05       0\n",
       "1        1  prod06       0\n",
       "2        1  prod07       0\n",
       "3        1  prod08       0\n",
       "4        2  prod05       0\n",
       "..     ...     ...     ...\n",
       "947    239  prod08       0\n",
       "948    240  prod05       0\n",
       "949    240  prod06       0\n",
       "950    240  prod07       0\n",
       "951    240  prod08       0\n",
       "\n",
       "[598 rows x 3 columns]"
      ]
     },
     "execution_count": 21,
     "metadata": {},
     "output_type": "execute_result"
    }
   ],
   "source": [
    "backlog[backlog[\"amount\"] == 0]"
   ]
  },
  {
   "cell_type": "code",
   "execution_count": 22,
   "id": "1d68025a",
   "metadata": {},
   "outputs": [
    {
     "data": {
      "text/plain": [
       "62.81512605042017"
      ]
     },
     "execution_count": 22,
     "metadata": {},
     "output_type": "execute_result"
    }
   ],
   "source": [
    "598 / 952 * 100"
   ]
  },
  {
   "cell_type": "markdown",
   "id": "dfa8bd75",
   "metadata": {},
   "source": [
    "Out of 952 rows, 598 rows of the 'backlog' table consists of zeroes. This means that during these rounds, no backlog was formed. Unfortunately, this large number accounts for ~63% of the backlog tables data meaning no real statistical inferences can be generalised to the population. In simpler terms, assumptions about the whole dataset cannot be made as there is a significant percentage of the data that is \"unaccounted for\".\n",
    "\n",
    "With additional context, this \"empty\" dataset presents a positive reflection on the performance of sales and production. With only about 38% of orders being backlogged, more than 60% of the orders are fulfilled on time. While 60% is not a great enough number to consider for success, it does reveal the potential for improvement and growth."
   ]
  },
  {
   "cell_type": "code",
   "execution_count": 24,
   "id": "1d814a15",
   "metadata": {},
   "outputs": [
    {
     "data": {
      "text/plain": [
       "array(['prod05', 'prod06', 'prod07', 'prod08'], dtype=object)"
      ]
     },
     "execution_count": 24,
     "metadata": {},
     "output_type": "execute_result"
    }
   ],
   "source": [
    "backlog[\"product\"].unique()"
   ]
  },
  {
   "cell_type": "code",
   "execution_count": 27,
   "id": "81cb29da",
   "metadata": {},
   "outputs": [],
   "source": [
    "products = pandas.read_sql_query(\"SELECT * FROM products\", connection)"
   ]
  },
  {
   "cell_type": "code",
   "execution_count": 28,
   "id": "1e88e9a5",
   "metadata": {},
   "outputs": [
    {
     "data": {
      "text/html": [
       "<div>\n",
       "<style scoped>\n",
       "    .dataframe tbody tr th:only-of-type {\n",
       "        vertical-align: middle;\n",
       "    }\n",
       "\n",
       "    .dataframe tbody tr th {\n",
       "        vertical-align: top;\n",
       "    }\n",
       "\n",
       "    .dataframe thead th {\n",
       "        text-align: right;\n",
       "    }\n",
       "</style>\n",
       "<table border=\"1\" class=\"dataframe\">\n",
       "  <thead>\n",
       "    <tr style=\"text-align: right;\">\n",
       "      <th></th>\n",
       "      <th>productId</th>\n",
       "      <th>name</th>\n",
       "      <th>supplier</th>\n",
       "      <th>customer</th>\n",
       "    </tr>\n",
       "  </thead>\n",
       "  <tbody>\n",
       "    <tr>\n",
       "      <th>0</th>\n",
       "      <td>prod01</td>\n",
       "      <td>Polyethylene</td>\n",
       "      <td>base</td>\n",
       "      <td>tier-4</td>\n",
       "    </tr>\n",
       "    <tr>\n",
       "      <th>1</th>\n",
       "      <td>prod02</td>\n",
       "      <td>Iron</td>\n",
       "      <td>base</td>\n",
       "      <td>tier-4</td>\n",
       "    </tr>\n",
       "    <tr>\n",
       "      <th>2</th>\n",
       "      <td>prod03</td>\n",
       "      <td>Diode</td>\n",
       "      <td>base</td>\n",
       "      <td>tier-4</td>\n",
       "    </tr>\n",
       "    <tr>\n",
       "      <th>3</th>\n",
       "      <td>prod04</td>\n",
       "      <td>Rubber</td>\n",
       "      <td>base</td>\n",
       "      <td>tier-4</td>\n",
       "    </tr>\n",
       "    <tr>\n",
       "      <th>4</th>\n",
       "      <td>prod05</td>\n",
       "      <td>Cover</td>\n",
       "      <td>tier-4</td>\n",
       "      <td>tier-3</td>\n",
       "    </tr>\n",
       "    <tr>\n",
       "      <th>5</th>\n",
       "      <td>prod06</td>\n",
       "      <td>Screw</td>\n",
       "      <td>tier-4</td>\n",
       "      <td>tier-3</td>\n",
       "    </tr>\n",
       "    <tr>\n",
       "      <th>6</th>\n",
       "      <td>prod07</td>\n",
       "      <td>LED</td>\n",
       "      <td>tier-4</td>\n",
       "      <td>tier-3</td>\n",
       "    </tr>\n",
       "    <tr>\n",
       "      <th>7</th>\n",
       "      <td>prod08</td>\n",
       "      <td>Grill</td>\n",
       "      <td>tier-4</td>\n",
       "      <td>tier-3</td>\n",
       "    </tr>\n",
       "  </tbody>\n",
       "</table>\n",
       "</div>"
      ],
      "text/plain": [
       "  productId          name supplier customer\n",
       "0    prod01  Polyethylene     base   tier-4\n",
       "1    prod02          Iron     base   tier-4\n",
       "2    prod03         Diode     base   tier-4\n",
       "3    prod04        Rubber     base   tier-4\n",
       "4    prod05         Cover   tier-4   tier-3\n",
       "5    prod06         Screw   tier-4   tier-3\n",
       "6    prod07           LED   tier-4   tier-3\n",
       "7    prod08         Grill   tier-4   tier-3"
      ]
     },
     "execution_count": 28,
     "metadata": {},
     "output_type": "execute_result"
    }
   ],
   "source": [
    "products"
   ]
  },
  {
   "cell_type": "code",
   "execution_count": 32,
   "id": "c54fcaba",
   "metadata": {},
   "outputs": [],
   "source": [
    "# Renaming the 'product' column in the backlog table to be more descriptive\n",
    "backlog[\"product\"] = backlog[\"product\"].map({\"prod05\": \"Cover\", \"prod06\": \"Screw\", \"prod07\": \"LED\", \"prod08\": \"Grill\"})"
   ]
  },
  {
   "cell_type": "code",
   "execution_count": 33,
   "id": "98e73685",
   "metadata": {},
   "outputs": [
    {
     "data": {
      "text/html": [
       "<div>\n",
       "<style scoped>\n",
       "    .dataframe tbody tr th:only-of-type {\n",
       "        vertical-align: middle;\n",
       "    }\n",
       "\n",
       "    .dataframe tbody tr th {\n",
       "        vertical-align: top;\n",
       "    }\n",
       "\n",
       "    .dataframe thead th {\n",
       "        text-align: right;\n",
       "    }\n",
       "</style>\n",
       "<table border=\"1\" class=\"dataframe\">\n",
       "  <thead>\n",
       "    <tr style=\"text-align: right;\">\n",
       "      <th></th>\n",
       "      <th>round</th>\n",
       "      <th>product</th>\n",
       "      <th>amount</th>\n",
       "    </tr>\n",
       "  </thead>\n",
       "  <tbody>\n",
       "    <tr>\n",
       "      <th>0</th>\n",
       "      <td>1</td>\n",
       "      <td>Cover</td>\n",
       "      <td>0</td>\n",
       "    </tr>\n",
       "    <tr>\n",
       "      <th>1</th>\n",
       "      <td>1</td>\n",
       "      <td>Screw</td>\n",
       "      <td>0</td>\n",
       "    </tr>\n",
       "    <tr>\n",
       "      <th>2</th>\n",
       "      <td>1</td>\n",
       "      <td>LED</td>\n",
       "      <td>0</td>\n",
       "    </tr>\n",
       "    <tr>\n",
       "      <th>3</th>\n",
       "      <td>1</td>\n",
       "      <td>Grill</td>\n",
       "      <td>0</td>\n",
       "    </tr>\n",
       "    <tr>\n",
       "      <th>4</th>\n",
       "      <td>2</td>\n",
       "      <td>Cover</td>\n",
       "      <td>0</td>\n",
       "    </tr>\n",
       "    <tr>\n",
       "      <th>...</th>\n",
       "      <td>...</td>\n",
       "      <td>...</td>\n",
       "      <td>...</td>\n",
       "    </tr>\n",
       "    <tr>\n",
       "      <th>947</th>\n",
       "      <td>239</td>\n",
       "      <td>Grill</td>\n",
       "      <td>0</td>\n",
       "    </tr>\n",
       "    <tr>\n",
       "      <th>948</th>\n",
       "      <td>240</td>\n",
       "      <td>Cover</td>\n",
       "      <td>0</td>\n",
       "    </tr>\n",
       "    <tr>\n",
       "      <th>949</th>\n",
       "      <td>240</td>\n",
       "      <td>Screw</td>\n",
       "      <td>0</td>\n",
       "    </tr>\n",
       "    <tr>\n",
       "      <th>950</th>\n",
       "      <td>240</td>\n",
       "      <td>LED</td>\n",
       "      <td>0</td>\n",
       "    </tr>\n",
       "    <tr>\n",
       "      <th>951</th>\n",
       "      <td>240</td>\n",
       "      <td>Grill</td>\n",
       "      <td>0</td>\n",
       "    </tr>\n",
       "  </tbody>\n",
       "</table>\n",
       "<p>952 rows × 3 columns</p>\n",
       "</div>"
      ],
      "text/plain": [
       "     round product  amount\n",
       "0        1   Cover       0\n",
       "1        1   Screw       0\n",
       "2        1     LED       0\n",
       "3        1   Grill       0\n",
       "4        2   Cover       0\n",
       "..     ...     ...     ...\n",
       "947    239   Grill       0\n",
       "948    240   Cover       0\n",
       "949    240   Screw       0\n",
       "950    240     LED       0\n",
       "951    240   Grill       0\n",
       "\n",
       "[952 rows x 3 columns]"
      ]
     },
     "execution_count": 33,
     "metadata": {},
     "output_type": "execute_result"
    }
   ],
   "source": [
    "backlog"
   ]
  },
  {
   "cell_type": "code",
   "execution_count": 35,
   "id": "52e4ba7f",
   "metadata": {},
   "outputs": [
    {
     "data": {
      "text/plain": [
       "product\n",
       "Cover     546700\n",
       "Grill     624244\n",
       "LED       728845\n",
       "Screw    2212701\n",
       "Name: amount, dtype: int64"
      ]
     },
     "execution_count": 35,
     "metadata": {},
     "output_type": "execute_result"
    }
   ],
   "source": [
    "backlog.groupby(\"product\")[\"amount\"].sum()"
   ]
  },
  {
   "cell_type": "code",
   "execution_count": 50,
   "id": "c60d5435",
   "metadata": {},
   "outputs": [
    {
     "data": {
      "image/png": "[encoded data removed]",
      "text/plain": [
       "<Figure size 720x576 with 1 Axes>"
      ]
     },
     "metadata": {},
     "output_type": "display_data"
    }
   ],
   "source": [
    "backlog.groupby(\"product\")[\"amount\"].sum().plot(kind=\"bar\",\n",
    "                                               figsize=(10, 8),\n",
    "                                               ylabel=\"Number of Orders (millions)\",\n",
    "                                               xlabel=\"Product\",\n",
    "                                               fontsize=14)\n",
    "\n",
    "plt.title(\"Sum of Backlog Orders Grouped By Product\", fontsize=18)\n",
    "plt.xticks(rotation=0)\n",
    "plt.show()"
   ]
  },
  {
   "cell_type": "markdown",
   "id": "534472c2",
   "metadata": {},
   "source": [
    "As seen in the visualisation above, Screws appear as the product with the highest number of backlog orders. Fortunately, this phenomenon was observed while playing the game. As the rounds progressed, the number of screws ordered by the customer changed drastically. The orders remained inconsistent. With only one perspective, being that of the production function, no real conclusions can be drawn from this phenomenon as additional context would be needed. \n",
    "\n",
    "One thing to note is that even though efforts were made to increase the number of screws produced and subsequently sold, the amounts ordered increased as well. This in turn hurt efforts to maintain a consistent supply of other goods, being Covers, Grills, and LEDs. The suprising thing, however, was that demand only really increased for screws while the demand for other products remained steady. Without additional context, it would be foolish to suggest that production efforts be geared predominantely towards the production of screws to meet this demand. It is important to keep in mind though."
   ]
  },
  {
   "cell_type": "markdown",
   "id": "e8faa4cc",
   "metadata": {},
   "source": [
    "### Inbound Amounts table"
   ]
  },
  {
   "cell_type": "code",
   "execution_count": 51,
   "id": "0d9c8be4",
   "metadata": {},
   "outputs": [
    {
     "data": {
      "text/html": [
       "<div>\n",
       "<style scoped>\n",
       "    .dataframe tbody tr th:only-of-type {\n",
       "        vertical-align: middle;\n",
       "    }\n",
       "\n",
       "    .dataframe tbody tr th {\n",
       "        vertical-align: top;\n",
       "    }\n",
       "\n",
       "    .dataframe thead th {\n",
       "        text-align: right;\n",
       "    }\n",
       "</style>\n",
       "<table border=\"1\" class=\"dataframe\">\n",
       "  <thead>\n",
       "    <tr style=\"text-align: right;\">\n",
       "      <th></th>\n",
       "      <th>productId</th>\n",
       "      <th>name</th>\n",
       "      <th>supplier</th>\n",
       "      <th>customer</th>\n",
       "    </tr>\n",
       "  </thead>\n",
       "  <tbody>\n",
       "    <tr>\n",
       "      <th>0</th>\n",
       "      <td>prod01</td>\n",
       "      <td>Polyethylene</td>\n",
       "      <td>base</td>\n",
       "      <td>tier-4</td>\n",
       "    </tr>\n",
       "    <tr>\n",
       "      <th>1</th>\n",
       "      <td>prod02</td>\n",
       "      <td>Iron</td>\n",
       "      <td>base</td>\n",
       "      <td>tier-4</td>\n",
       "    </tr>\n",
       "    <tr>\n",
       "      <th>2</th>\n",
       "      <td>prod03</td>\n",
       "      <td>Diode</td>\n",
       "      <td>base</td>\n",
       "      <td>tier-4</td>\n",
       "    </tr>\n",
       "    <tr>\n",
       "      <th>3</th>\n",
       "      <td>prod04</td>\n",
       "      <td>Rubber</td>\n",
       "      <td>base</td>\n",
       "      <td>tier-4</td>\n",
       "    </tr>\n",
       "    <tr>\n",
       "      <th>4</th>\n",
       "      <td>prod05</td>\n",
       "      <td>Cover</td>\n",
       "      <td>tier-4</td>\n",
       "      <td>tier-3</td>\n",
       "    </tr>\n",
       "    <tr>\n",
       "      <th>5</th>\n",
       "      <td>prod06</td>\n",
       "      <td>Screw</td>\n",
       "      <td>tier-4</td>\n",
       "      <td>tier-3</td>\n",
       "    </tr>\n",
       "    <tr>\n",
       "      <th>6</th>\n",
       "      <td>prod07</td>\n",
       "      <td>LED</td>\n",
       "      <td>tier-4</td>\n",
       "      <td>tier-3</td>\n",
       "    </tr>\n",
       "    <tr>\n",
       "      <th>7</th>\n",
       "      <td>prod08</td>\n",
       "      <td>Grill</td>\n",
       "      <td>tier-4</td>\n",
       "      <td>tier-3</td>\n",
       "    </tr>\n",
       "  </tbody>\n",
       "</table>\n",
       "</div>"
      ],
      "text/plain": [
       "  productId          name supplier customer\n",
       "0    prod01  Polyethylene     base   tier-4\n",
       "1    prod02          Iron     base   tier-4\n",
       "2    prod03         Diode     base   tier-4\n",
       "3    prod04        Rubber     base   tier-4\n",
       "4    prod05         Cover   tier-4   tier-3\n",
       "5    prod06         Screw   tier-4   tier-3\n",
       "6    prod07           LED   tier-4   tier-3\n",
       "7    prod08         Grill   tier-4   tier-3"
      ]
     },
     "execution_count": 51,
     "metadata": {},
     "output_type": "execute_result"
    }
   ],
   "source": [
    "products"
   ]
  },
  {
   "cell_type": "code",
   "execution_count": 55,
   "id": "9a6cc6b0",
   "metadata": {},
   "outputs": [
    {
     "name": "stderr",
     "output_type": "stream",
     "text": [
      "C:\\Users\\richj\\anaconda3\\lib\\site-packages\\pandas\\io\\sql.py:761: UserWarning: pandas only support SQLAlchemy connectable(engine/connection) ordatabase string URI or sqlite3 DBAPI2 connectionother DBAPI2 objects are not tested, please consider using SQLAlchemy\n",
      "  warnings.warn(\n"
     ]
    }
   ],
   "source": [
    "inbound_amounts = pandas.read_sql_query(\"SELECT * FROM inboundAmounts\", connection)"
   ]
  },
  {
   "cell_type": "code",
   "execution_count": 56,
   "id": "081b7eb3",
   "metadata": {},
   "outputs": [
    {
     "data": {
      "text/html": [
       "<div>\n",
       "<style scoped>\n",
       "    .dataframe tbody tr th:only-of-type {\n",
       "        vertical-align: middle;\n",
       "    }\n",
       "\n",
       "    .dataframe tbody tr th {\n",
       "        vertical-align: top;\n",
       "    }\n",
       "\n",
       "    .dataframe thead th {\n",
       "        text-align: right;\n",
       "    }\n",
       "</style>\n",
       "<table border=\"1\" class=\"dataframe\">\n",
       "  <thead>\n",
       "    <tr style=\"text-align: right;\">\n",
       "      <th></th>\n",
       "      <th>deliveryId</th>\n",
       "      <th>round</th>\n",
       "      <th>timestamp</th>\n",
       "      <th>supplier</th>\n",
       "      <th>customer</th>\n",
       "      <th>product</th>\n",
       "      <th>amount</th>\n",
       "    </tr>\n",
       "  </thead>\n",
       "  <tbody>\n",
       "    <tr>\n",
       "      <th>0</th>\n",
       "      <td>4</td>\n",
       "      <td>2</td>\n",
       "      <td>2023-09-12 11:29:32</td>\n",
       "      <td>base</td>\n",
       "      <td>tier-4</td>\n",
       "      <td>prod01</td>\n",
       "      <td>2000</td>\n",
       "    </tr>\n",
       "    <tr>\n",
       "      <th>1</th>\n",
       "      <td>4</td>\n",
       "      <td>2</td>\n",
       "      <td>2023-09-12 11:29:32</td>\n",
       "      <td>base</td>\n",
       "      <td>tier-4</td>\n",
       "      <td>prod02</td>\n",
       "      <td>2000</td>\n",
       "    </tr>\n",
       "    <tr>\n",
       "      <th>2</th>\n",
       "      <td>4</td>\n",
       "      <td>2</td>\n",
       "      <td>2023-09-12 11:29:32</td>\n",
       "      <td>base</td>\n",
       "      <td>tier-4</td>\n",
       "      <td>prod03</td>\n",
       "      <td>2000</td>\n",
       "    </tr>\n",
       "    <tr>\n",
       "      <th>3</th>\n",
       "      <td>4</td>\n",
       "      <td>2</td>\n",
       "      <td>2023-09-12 11:29:32</td>\n",
       "      <td>base</td>\n",
       "      <td>tier-4</td>\n",
       "      <td>prod04</td>\n",
       "      <td>2000</td>\n",
       "    </tr>\n",
       "    <tr>\n",
       "      <th>4</th>\n",
       "      <td>17</td>\n",
       "      <td>4</td>\n",
       "      <td>2023-09-12 11:31:33</td>\n",
       "      <td>base</td>\n",
       "      <td>tier-4</td>\n",
       "      <td>prod01</td>\n",
       "      <td>30000</td>\n",
       "    </tr>\n",
       "    <tr>\n",
       "      <th>...</th>\n",
       "      <td>...</td>\n",
       "      <td>...</td>\n",
       "      <td>...</td>\n",
       "      <td>...</td>\n",
       "      <td>...</td>\n",
       "      <td>...</td>\n",
       "      <td>...</td>\n",
       "    </tr>\n",
       "    <tr>\n",
       "      <th>1263</th>\n",
       "      <td>2413</td>\n",
       "      <td>239</td>\n",
       "      <td>2023-09-15 11:13:33</td>\n",
       "      <td>base</td>\n",
       "      <td>tier-4</td>\n",
       "      <td>prod04</td>\n",
       "      <td>0</td>\n",
       "    </tr>\n",
       "    <tr>\n",
       "      <th>1264</th>\n",
       "      <td>2414</td>\n",
       "      <td>239</td>\n",
       "      <td>2023-09-15 11:13:33</td>\n",
       "      <td>base</td>\n",
       "      <td>tier-4</td>\n",
       "      <td>prod01</td>\n",
       "      <td>0</td>\n",
       "    </tr>\n",
       "    <tr>\n",
       "      <th>1265</th>\n",
       "      <td>2414</td>\n",
       "      <td>239</td>\n",
       "      <td>2023-09-15 11:13:33</td>\n",
       "      <td>base</td>\n",
       "      <td>tier-4</td>\n",
       "      <td>prod02</td>\n",
       "      <td>0</td>\n",
       "    </tr>\n",
       "    <tr>\n",
       "      <th>1266</th>\n",
       "      <td>2414</td>\n",
       "      <td>239</td>\n",
       "      <td>2023-09-15 11:13:33</td>\n",
       "      <td>base</td>\n",
       "      <td>tier-4</td>\n",
       "      <td>prod03</td>\n",
       "      <td>0</td>\n",
       "    </tr>\n",
       "    <tr>\n",
       "      <th>1267</th>\n",
       "      <td>2414</td>\n",
       "      <td>239</td>\n",
       "      <td>2023-09-15 11:13:33</td>\n",
       "      <td>base</td>\n",
       "      <td>tier-4</td>\n",
       "      <td>prod04</td>\n",
       "      <td>30000</td>\n",
       "    </tr>\n",
       "  </tbody>\n",
       "</table>\n",
       "<p>1268 rows × 7 columns</p>\n",
       "</div>"
      ],
      "text/plain": [
       "      deliveryId  round           timestamp supplier customer product  amount\n",
       "0              4      2 2023-09-12 11:29:32     base   tier-4  prod01    2000\n",
       "1              4      2 2023-09-12 11:29:32     base   tier-4  prod02    2000\n",
       "2              4      2 2023-09-12 11:29:32     base   tier-4  prod03    2000\n",
       "3              4      2 2023-09-12 11:29:32     base   tier-4  prod04    2000\n",
       "4             17      4 2023-09-12 11:31:33     base   tier-4  prod01   30000\n",
       "...          ...    ...                 ...      ...      ...     ...     ...\n",
       "1263        2413    239 2023-09-15 11:13:33     base   tier-4  prod04       0\n",
       "1264        2414    239 2023-09-15 11:13:33     base   tier-4  prod01       0\n",
       "1265        2414    239 2023-09-15 11:13:33     base   tier-4  prod02       0\n",
       "1266        2414    239 2023-09-15 11:13:33     base   tier-4  prod03       0\n",
       "1267        2414    239 2023-09-15 11:13:33     base   tier-4  prod04   30000\n",
       "\n",
       "[1268 rows x 7 columns]"
      ]
     },
     "execution_count": 56,
     "metadata": {},
     "output_type": "execute_result"
    }
   ],
   "source": [
    "inbound_amounts"
   ]
  },
  {
   "cell_type": "markdown",
   "id": "6ba3bd9e",
   "metadata": {},
   "source": [
    "#### Inbound Amounts Data Preprocessing"
   ]
  },
  {
   "cell_type": "code",
   "execution_count": 60,
   "id": "092b1381",
   "metadata": {},
   "outputs": [
    {
     "data": {
      "text/plain": [
       "array(['prod01', 'prod02', 'prod03', 'prod04', 'prod09', 'prod10',\n",
       "       'prod11', 'prod12'], dtype=object)"
      ]
     },
     "execution_count": 60,
     "metadata": {},
     "output_type": "execute_result"
    }
   ],
   "source": [
    "inbound_amounts[\"product\"].unique()"
   ]
  },
  {
   "cell_type": "code",
   "execution_count": 61,
   "id": "83d9a0d9",
   "metadata": {},
   "outputs": [
    {
     "data": {
      "text/html": [
       "<div>\n",
       "<style scoped>\n",
       "    .dataframe tbody tr th:only-of-type {\n",
       "        vertical-align: middle;\n",
       "    }\n",
       "\n",
       "    .dataframe tbody tr th {\n",
       "        vertical-align: top;\n",
       "    }\n",
       "\n",
       "    .dataframe thead th {\n",
       "        text-align: right;\n",
       "    }\n",
       "</style>\n",
       "<table border=\"1\" class=\"dataframe\">\n",
       "  <thead>\n",
       "    <tr style=\"text-align: right;\">\n",
       "      <th></th>\n",
       "      <th>deliveryId</th>\n",
       "      <th>round</th>\n",
       "      <th>amount</th>\n",
       "    </tr>\n",
       "    <tr>\n",
       "      <th>product</th>\n",
       "      <th></th>\n",
       "      <th></th>\n",
       "      <th></th>\n",
       "    </tr>\n",
       "  </thead>\n",
       "  <tbody>\n",
       "    <tr>\n",
       "      <th>prod01</th>\n",
       "      <td>366719</td>\n",
       "      <td>37004</td>\n",
       "      <td>6231027</td>\n",
       "    </tr>\n",
       "    <tr>\n",
       "      <th>prod02</th>\n",
       "      <td>366719</td>\n",
       "      <td>37004</td>\n",
       "      <td>4310020</td>\n",
       "    </tr>\n",
       "    <tr>\n",
       "      <th>prod03</th>\n",
       "      <td>366719</td>\n",
       "      <td>37004</td>\n",
       "      <td>2239500</td>\n",
       "    </tr>\n",
       "    <tr>\n",
       "      <th>prod04</th>\n",
       "      <td>366719</td>\n",
       "      <td>37004</td>\n",
       "      <td>2820520</td>\n",
       "    </tr>\n",
       "    <tr>\n",
       "      <th>prod09</th>\n",
       "      <td>446</td>\n",
       "      <td>51</td>\n",
       "      <td>0</td>\n",
       "    </tr>\n",
       "    <tr>\n",
       "      <th>prod10</th>\n",
       "      <td>446</td>\n",
       "      <td>51</td>\n",
       "      <td>0</td>\n",
       "    </tr>\n",
       "    <tr>\n",
       "      <th>prod11</th>\n",
       "      <td>446</td>\n",
       "      <td>51</td>\n",
       "      <td>8000</td>\n",
       "    </tr>\n",
       "    <tr>\n",
       "      <th>prod12</th>\n",
       "      <td>446</td>\n",
       "      <td>51</td>\n",
       "      <td>3000</td>\n",
       "    </tr>\n",
       "  </tbody>\n",
       "</table>\n",
       "</div>"
      ],
      "text/plain": [
       "         deliveryId  round   amount\n",
       "product                            \n",
       "prod01       366719  37004  6231027\n",
       "prod02       366719  37004  4310020\n",
       "prod03       366719  37004  2239500\n",
       "prod04       366719  37004  2820520\n",
       "prod09          446     51        0\n",
       "prod10          446     51        0\n",
       "prod11          446     51     8000\n",
       "prod12          446     51     3000"
      ]
     },
     "execution_count": 61,
     "metadata": {},
     "output_type": "execute_result"
    }
   ],
   "source": [
    "inbound_amounts.groupby(\"product\").sum()"
   ]
  },
  {
   "cell_type": "markdown",
   "id": "0d53b168",
   "metadata": {},
   "source": [
    "The table above provides a summary of the data found in the `inboundAmounts` table, indicating 8 products that are ordered to the factory from the supplier. With no additional information `prod09 - prod12`, these rows will be removed from the dataset and will not be analysed. The other four products, which will be renamed to be more descriptive, will be carried into this analysis."
   ]
  },
  {
   "cell_type": "code",
   "execution_count": 62,
   "id": "94eb9d0c",
   "metadata": {},
   "outputs": [],
   "source": [
    "inbound_amounts[\"product\"] = inbound_amounts[\"product\"].map({\"prod01\": \"Polyethene\", \"prod02\": \"Iron\", \"prod03\": \"Diode\", \"prod04\": \"Rubber\"})"
   ]
  },
  {
   "cell_type": "code",
   "execution_count": 64,
   "id": "3f254519",
   "metadata": {},
   "outputs": [
    {
     "data": {
      "text/plain": [
       "array(['tier-4'], dtype=object)"
      ]
     },
     "execution_count": 64,
     "metadata": {},
     "output_type": "execute_result"
    }
   ],
   "source": [
    "inbound_amounts[\"customer\"].unique()"
   ]
  },
  {
   "cell_type": "code",
   "execution_count": 65,
   "id": "2f2125f4",
   "metadata": {},
   "outputs": [
    {
     "data": {
      "text/plain": [
       "array(['base'], dtype=object)"
      ]
     },
     "execution_count": 65,
     "metadata": {},
     "output_type": "execute_result"
    }
   ],
   "source": [
    "inbound_amounts[\"supplier\"].unique()"
   ]
  },
  {
   "cell_type": "markdown",
   "id": "77eb4a7d",
   "metadata": {},
   "source": [
    "After a quick scan of the table, it is clear that the inboundAmounts table does not provide room for many questions to be answered, only a few. One of the few questions that can be drawn from the table is how the ordering of products affected sales, specifically referring to the backlog issue that was identified with the sale of screws.\n",
    "\n",
    "Some additional production information:\n",
    "\n",
    "* 1 Screw requires 1 `Iron`\n",
    "<br><br>\n",
    "* 1 Cover requires 1 unit of `Polyethylene`\n",
    "<br><br>\n",
    "* 1 Grill requires 1 unit of `Rubber`\n",
    "<br><br>\n",
    "* 1 LED requires 2 units of `Polyethylene` and 1 unit of `Diode`\n",
    "<br><br>\n",
    "\n",
    "This is important information to note as this will have likely affected the strategy for ordering the raw materials required to produce the products screws, covers, LEDs, and grills, subsequently drawing a clearer picture of the backlog issues that were faced."
   ]
  },
  {
   "cell_type": "code",
   "execution_count": 67,
   "id": "c0d25b6b",
   "metadata": {},
   "outputs": [
    {
     "data": {
      "text/html": [
       "<div>\n",
       "<style scoped>\n",
       "    .dataframe tbody tr th:only-of-type {\n",
       "        vertical-align: middle;\n",
       "    }\n",
       "\n",
       "    .dataframe tbody tr th {\n",
       "        vertical-align: top;\n",
       "    }\n",
       "\n",
       "    .dataframe thead th {\n",
       "        text-align: right;\n",
       "    }\n",
       "</style>\n",
       "<table border=\"1\" class=\"dataframe\">\n",
       "  <thead>\n",
       "    <tr style=\"text-align: right;\">\n",
       "      <th></th>\n",
       "      <th>product</th>\n",
       "      <th>amount</th>\n",
       "      <th>round</th>\n",
       "    </tr>\n",
       "  </thead>\n",
       "  <tbody>\n",
       "    <tr>\n",
       "      <th>0</th>\n",
       "      <td>Polyethene</td>\n",
       "      <td>2000</td>\n",
       "      <td>2</td>\n",
       "    </tr>\n",
       "    <tr>\n",
       "      <th>1</th>\n",
       "      <td>Iron</td>\n",
       "      <td>2000</td>\n",
       "      <td>2</td>\n",
       "    </tr>\n",
       "    <tr>\n",
       "      <th>2</th>\n",
       "      <td>Diode</td>\n",
       "      <td>2000</td>\n",
       "      <td>2</td>\n",
       "    </tr>\n",
       "    <tr>\n",
       "      <th>3</th>\n",
       "      <td>Rubber</td>\n",
       "      <td>2000</td>\n",
       "      <td>2</td>\n",
       "    </tr>\n",
       "    <tr>\n",
       "      <th>4</th>\n",
       "      <td>Polyethene</td>\n",
       "      <td>30000</td>\n",
       "      <td>4</td>\n",
       "    </tr>\n",
       "    <tr>\n",
       "      <th>...</th>\n",
       "      <td>...</td>\n",
       "      <td>...</td>\n",
       "      <td>...</td>\n",
       "    </tr>\n",
       "    <tr>\n",
       "      <th>1263</th>\n",
       "      <td>Rubber</td>\n",
       "      <td>0</td>\n",
       "      <td>239</td>\n",
       "    </tr>\n",
       "    <tr>\n",
       "      <th>1264</th>\n",
       "      <td>Polyethene</td>\n",
       "      <td>0</td>\n",
       "      <td>239</td>\n",
       "    </tr>\n",
       "    <tr>\n",
       "      <th>1265</th>\n",
       "      <td>Iron</td>\n",
       "      <td>0</td>\n",
       "      <td>239</td>\n",
       "    </tr>\n",
       "    <tr>\n",
       "      <th>1266</th>\n",
       "      <td>Diode</td>\n",
       "      <td>0</td>\n",
       "      <td>239</td>\n",
       "    </tr>\n",
       "    <tr>\n",
       "      <th>1267</th>\n",
       "      <td>Rubber</td>\n",
       "      <td>30000</td>\n",
       "      <td>239</td>\n",
       "    </tr>\n",
       "  </tbody>\n",
       "</table>\n",
       "<p>1268 rows × 3 columns</p>\n",
       "</div>"
      ],
      "text/plain": [
       "         product  amount  round\n",
       "0     Polyethene    2000      2\n",
       "1           Iron    2000      2\n",
       "2          Diode    2000      2\n",
       "3         Rubber    2000      2\n",
       "4     Polyethene   30000      4\n",
       "...          ...     ...    ...\n",
       "1263      Rubber       0    239\n",
       "1264  Polyethene       0    239\n",
       "1265        Iron       0    239\n",
       "1266       Diode       0    239\n",
       "1267      Rubber   30000    239\n",
       "\n",
       "[1268 rows x 3 columns]"
      ]
     },
     "execution_count": 67,
     "metadata": {},
     "output_type": "execute_result"
    }
   ],
   "source": [
    "inbound_amounts = inbound_amounts[[\"product\", \"amount\", \"round\"]]  # Referring to relevant columns and dropping the others\n",
    "inbound_amounts"
   ]
  },
  {
   "cell_type": "code",
   "execution_count": 73,
   "id": "57095aaf",
   "metadata": {},
   "outputs": [],
   "source": [
    "inbound_data = inbound_amounts.groupby(\"product\", sort=True)[\"amount\"].sum()\n",
    "inbound_data_df = pandas.DataFrame(inbound_data)"
   ]
  },
  {
   "cell_type": "code",
   "execution_count": 75,
   "id": "f7f14481",
   "metadata": {},
   "outputs": [
    {
     "data": {
      "text/html": [
       "<div>\n",
       "<style scoped>\n",
       "    .dataframe tbody tr th:only-of-type {\n",
       "        vertical-align: middle;\n",
       "    }\n",
       "\n",
       "    .dataframe tbody tr th {\n",
       "        vertical-align: top;\n",
       "    }\n",
       "\n",
       "    .dataframe thead th {\n",
       "        text-align: right;\n",
       "    }\n",
       "</style>\n",
       "<table border=\"1\" class=\"dataframe\">\n",
       "  <thead>\n",
       "    <tr style=\"text-align: right;\">\n",
       "      <th></th>\n",
       "      <th>amount</th>\n",
       "    </tr>\n",
       "    <tr>\n",
       "      <th>product</th>\n",
       "      <th></th>\n",
       "    </tr>\n",
       "  </thead>\n",
       "  <tbody>\n",
       "    <tr>\n",
       "      <th>Diode</th>\n",
       "      <td>2239500</td>\n",
       "    </tr>\n",
       "    <tr>\n",
       "      <th>Iron</th>\n",
       "      <td>4310020</td>\n",
       "    </tr>\n",
       "    <tr>\n",
       "      <th>Polyethene</th>\n",
       "      <td>6231027</td>\n",
       "    </tr>\n",
       "    <tr>\n",
       "      <th>Rubber</th>\n",
       "      <td>2820520</td>\n",
       "    </tr>\n",
       "  </tbody>\n",
       "</table>\n",
       "</div>"
      ],
      "text/plain": [
       "             amount\n",
       "product            \n",
       "Diode       2239500\n",
       "Iron        4310020\n",
       "Polyethene  6231027\n",
       "Rubber      2820520"
      ]
     },
     "execution_count": 75,
     "metadata": {},
     "output_type": "execute_result"
    }
   ],
   "source": [
    "inbound_data_df"
   ]
  },
  {
   "cell_type": "markdown",
   "id": "bd393b6c",
   "metadata": {},
   "source": [
    "Grouping the data together by the sum of orders placed reveals that the most ordered for product was `Polyethylene` exceeding 6 million units ordered over 240 rounds. The second highest ordered product is `Iron` exceeding 4.3 million, with `Rubber` and `Diode` exceeding 2 million and falling shy of the 3 million mark respectively. This finding makes sense as the additional information provided on the raw material requirements of the production function details that two products need units of `Polyethylene` to be produced. As a reminder, these two products are `LEDs` requiring two units of `Polyethylene`, and `Covers` requiring one unit of `Polyethylene` to produce. \n",
    "\n",
    "Based on the findings earlier, an area of analysis has presented itself. One may ask why it is that `screws` had the largest backlog, exceeding well over 2.5 million units, while the other three products remained below 750k units. It is surprising to find that even 4.3 million units of `Iron` were purchased throughout the duration of the game and yet the demand remained unmet. What is clear though is that the excess stock of `Polyethylene` available may have alleviated the pressure from the demand of covers, and LEDs. "
   ]
  },
  {
   "cell_type": "code",
   "execution_count": 84,
   "id": "71ac5eb4",
   "metadata": {},
   "outputs": [
    {
     "data": {
      "image/png": "[encoded data removed]",
      "text/plain": [
       "<Figure size 720x720 with 1 Axes>"
      ]
     },
     "metadata": {},
     "output_type": "display_data"
    }
   ],
   "source": [
    "inbound_data_df.plot(kind=\"pie\", subplots=True, figsize=(10, 10), autopct=\"%.2f%%\")\n",
    "plt.title(\"Order Percentages of Raw Materials Grouped by Product\")\n",
    "plt.ylabel(\"Order %\")\n",
    "plt.show()"
   ]
  },
  {
   "cell_type": "markdown",
   "id": "b6c2f851",
   "metadata": {},
   "source": [
    "The plot above provides a visual representation of the orders made from the supplier to the factory, once again highlighting the fact that the majority of orders for raw materials were placed for `Polyethylene`. The second highest being `Iron`. \n",
    "\n",
    "It is clear that the strategy for ordering raw materials had to have been adjusted earlier on to account for the increased demand for screws. Hindsight is 20/20 though so it is very easy to say that \"this approach should have been executed\" or \"that approach should have been executed,\" of which highlights an issue in forecasting customer demand. While the production function required more `Polyethylene`to produce covers and LEDs, the demand for screws exceeded the demand for covers and LEDs. "
   ]
  },
  {
   "cell_type": "code",
   "execution_count": 87,
   "id": "c2929480",
   "metadata": {},
   "outputs": [
    {
     "data": {
      "text/plain": [
       "product\n",
       "Diode         117.101266\n",
       "Iron          117.101266\n",
       "Polyethene    117.101266\n",
       "Rubber        117.101266\n",
       "Name: round, dtype: float64"
      ]
     },
     "execution_count": 87,
     "metadata": {},
     "output_type": "execute_result"
    }
   ],
   "source": [
    "inbound_amounts.groupby(\"product\")[\"round\"].mean()"
   ]
  },
  {
   "cell_type": "markdown",
   "id": "9d1cbdb7",
   "metadata": {},
   "source": [
    "Unfortunately, the database does not provide additional round context to make further inferences. The next point of the analysis would have investigated when the demand for screws grew, and when the demand for the other products being covers, LEDs, and grills, decreased. This may have provided insights into a possible pattern that may have developed throughout the game.\n",
    "\n",
    "This pattern may have revealed insights such as:\n",
    "\n",
    "* Perhaps the excess orders of `Polyethylene` prevented a severe backlog of the production of covers and LEDs, indicating that the contributor to the backlog of screws may have been that insufficient `Iron` was purchased.\n",
    "<br><br>\n",
    "* The issue may have been a lack of communication between the supplier and the customer, leading to an exponential increase in demand for screws, and a steady decrease of other products (covers, LEDs, grills).\n",
    "<br><br>\n",
    "* The strategy for forecasting proved to be fruitless as it did not account for an unexpected increase in demand.\n",
    "<br><br>\n",
    "* The `bullwhip effect` taking place. The `bullwhip effect` is a phenomenon in supply chain management where small fluctuations in consumer demand can lead to increasingly larger fluctuations in orders placed with suppliers. This ripple effect causes inefficiencies, excess inventory, and increased costs throughout the supply chain.\n",
    "\n",
    "What is very clear however, is that orders for raw materials had to be adjusted altogether as a backlog of all products developed, with screws being a massive outlier of the products in the backlog. It may be that the production strategy was geared towards minimising stock levels in the warehouse to minimise storage costs and free space up for irregular demand spikes, this was not the case however, highlighting the need to reassess and revise the strategy."
   ]
  },
  {
   "cell_type": "markdown",
   "id": "0e0176c0",
   "metadata": {},
   "source": [
    "### Open Orders Table"
   ]
  },
  {
   "cell_type": "code",
   "execution_count": 5,
   "id": "f1ded0a5",
   "metadata": {},
   "outputs": [
    {
     "name": "stderr",
     "output_type": "stream",
     "text": [
      "C:\\Users\\richj\\anaconda3\\lib\\site-packages\\pandas\\io\\sql.py:761: UserWarning: pandas only support SQLAlchemy connectable(engine/connection) ordatabase string URI or sqlite3 DBAPI2 connectionother DBAPI2 objects are not tested, please consider using SQLAlchemy\n",
      "  warnings.warn(\n"
     ]
    },
    {
     "data": {
      "text/html": [
       "<div>\n",
       "<style scoped>\n",
       "    .dataframe tbody tr th:only-of-type {\n",
       "        vertical-align: middle;\n",
       "    }\n",
       "\n",
       "    .dataframe tbody tr th {\n",
       "        vertical-align: top;\n",
       "    }\n",
       "\n",
       "    .dataframe thead th {\n",
       "        text-align: right;\n",
       "    }\n",
       "</style>\n",
       "<table border=\"1\" class=\"dataframe\">\n",
       "  <thead>\n",
       "    <tr style=\"text-align: right;\">\n",
       "      <th></th>\n",
       "      <th>round</th>\n",
       "      <th>product</th>\n",
       "      <th>amount</th>\n",
       "    </tr>\n",
       "  </thead>\n",
       "  <tbody>\n",
       "    <tr>\n",
       "      <th>0</th>\n",
       "      <td>1</td>\n",
       "      <td>prod01</td>\n",
       "      <td>0</td>\n",
       "    </tr>\n",
       "    <tr>\n",
       "      <th>1</th>\n",
       "      <td>1</td>\n",
       "      <td>prod02</td>\n",
       "      <td>0</td>\n",
       "    </tr>\n",
       "    <tr>\n",
       "      <th>2</th>\n",
       "      <td>1</td>\n",
       "      <td>prod03</td>\n",
       "      <td>0</td>\n",
       "    </tr>\n",
       "    <tr>\n",
       "      <th>3</th>\n",
       "      <td>1</td>\n",
       "      <td>prod04</td>\n",
       "      <td>0</td>\n",
       "    </tr>\n",
       "    <tr>\n",
       "      <th>4</th>\n",
       "      <td>2</td>\n",
       "      <td>prod01</td>\n",
       "      <td>2000</td>\n",
       "    </tr>\n",
       "    <tr>\n",
       "      <th>...</th>\n",
       "      <td>...</td>\n",
       "      <td>...</td>\n",
       "      <td>...</td>\n",
       "    </tr>\n",
       "    <tr>\n",
       "      <th>947</th>\n",
       "      <td>239</td>\n",
       "      <td>prod04</td>\n",
       "      <td>30000</td>\n",
       "    </tr>\n",
       "    <tr>\n",
       "      <th>948</th>\n",
       "      <td>240</td>\n",
       "      <td>prod01</td>\n",
       "      <td>0</td>\n",
       "    </tr>\n",
       "    <tr>\n",
       "      <th>949</th>\n",
       "      <td>240</td>\n",
       "      <td>prod02</td>\n",
       "      <td>0</td>\n",
       "    </tr>\n",
       "    <tr>\n",
       "      <th>950</th>\n",
       "      <td>240</td>\n",
       "      <td>prod03</td>\n",
       "      <td>0</td>\n",
       "    </tr>\n",
       "    <tr>\n",
       "      <th>951</th>\n",
       "      <td>240</td>\n",
       "      <td>prod04</td>\n",
       "      <td>0</td>\n",
       "    </tr>\n",
       "  </tbody>\n",
       "</table>\n",
       "<p>952 rows × 3 columns</p>\n",
       "</div>"
      ],
      "text/plain": [
       "     round product  amount\n",
       "0        1  prod01       0\n",
       "1        1  prod02       0\n",
       "2        1  prod03       0\n",
       "3        1  prod04       0\n",
       "4        2  prod01    2000\n",
       "..     ...     ...     ...\n",
       "947    239  prod04   30000\n",
       "948    240  prod01       0\n",
       "949    240  prod02       0\n",
       "950    240  prod03       0\n",
       "951    240  prod04       0\n",
       "\n",
       "[952 rows x 3 columns]"
      ]
     },
     "execution_count": 5,
     "metadata": {},
     "output_type": "execute_result"
    }
   ],
   "source": [
    "open_orders = pandas.read_sql_query(\"SELECT * FROM openOrders\", connection)\n",
    "open_orders"
   ]
  },
  {
   "cell_type": "code",
   "execution_count": 6,
   "id": "bcb3201e",
   "metadata": {},
   "outputs": [
    {
     "data": {
      "text/plain": [
       "array(['prod01', 'prod02', 'prod03', 'prod04'], dtype=object)"
      ]
     },
     "execution_count": 6,
     "metadata": {},
     "output_type": "execute_result"
    }
   ],
   "source": [
    "open_orders[\"product\"].unique()"
   ]
  },
  {
   "cell_type": "code",
   "execution_count": 7,
   "id": "f95e16da",
   "metadata": {},
   "outputs": [
    {
     "data": {
      "text/html": [
       "<div>\n",
       "<style scoped>\n",
       "    .dataframe tbody tr th:only-of-type {\n",
       "        vertical-align: middle;\n",
       "    }\n",
       "\n",
       "    .dataframe tbody tr th {\n",
       "        vertical-align: top;\n",
       "    }\n",
       "\n",
       "    .dataframe thead th {\n",
       "        text-align: right;\n",
       "    }\n",
       "</style>\n",
       "<table border=\"1\" class=\"dataframe\">\n",
       "  <thead>\n",
       "    <tr style=\"text-align: right;\">\n",
       "      <th></th>\n",
       "      <th>round</th>\n",
       "      <th>product</th>\n",
       "      <th>amount</th>\n",
       "    </tr>\n",
       "  </thead>\n",
       "  <tbody>\n",
       "    <tr>\n",
       "      <th>0</th>\n",
       "      <td>1</td>\n",
       "      <td>Polyethene</td>\n",
       "      <td>0</td>\n",
       "    </tr>\n",
       "    <tr>\n",
       "      <th>1</th>\n",
       "      <td>1</td>\n",
       "      <td>Iron</td>\n",
       "      <td>0</td>\n",
       "    </tr>\n",
       "    <tr>\n",
       "      <th>2</th>\n",
       "      <td>1</td>\n",
       "      <td>Diode</td>\n",
       "      <td>0</td>\n",
       "    </tr>\n",
       "    <tr>\n",
       "      <th>3</th>\n",
       "      <td>1</td>\n",
       "      <td>Rubber</td>\n",
       "      <td>0</td>\n",
       "    </tr>\n",
       "    <tr>\n",
       "      <th>4</th>\n",
       "      <td>2</td>\n",
       "      <td>Polyethene</td>\n",
       "      <td>2000</td>\n",
       "    </tr>\n",
       "    <tr>\n",
       "      <th>...</th>\n",
       "      <td>...</td>\n",
       "      <td>...</td>\n",
       "      <td>...</td>\n",
       "    </tr>\n",
       "    <tr>\n",
       "      <th>947</th>\n",
       "      <td>239</td>\n",
       "      <td>Rubber</td>\n",
       "      <td>30000</td>\n",
       "    </tr>\n",
       "    <tr>\n",
       "      <th>948</th>\n",
       "      <td>240</td>\n",
       "      <td>Polyethene</td>\n",
       "      <td>0</td>\n",
       "    </tr>\n",
       "    <tr>\n",
       "      <th>949</th>\n",
       "      <td>240</td>\n",
       "      <td>Iron</td>\n",
       "      <td>0</td>\n",
       "    </tr>\n",
       "    <tr>\n",
       "      <th>950</th>\n",
       "      <td>240</td>\n",
       "      <td>Diode</td>\n",
       "      <td>0</td>\n",
       "    </tr>\n",
       "    <tr>\n",
       "      <th>951</th>\n",
       "      <td>240</td>\n",
       "      <td>Rubber</td>\n",
       "      <td>0</td>\n",
       "    </tr>\n",
       "  </tbody>\n",
       "</table>\n",
       "<p>952 rows × 3 columns</p>\n",
       "</div>"
      ],
      "text/plain": [
       "     round     product  amount\n",
       "0        1  Polyethene       0\n",
       "1        1        Iron       0\n",
       "2        1       Diode       0\n",
       "3        1      Rubber       0\n",
       "4        2  Polyethene    2000\n",
       "..     ...         ...     ...\n",
       "947    239      Rubber   30000\n",
       "948    240  Polyethene       0\n",
       "949    240        Iron       0\n",
       "950    240       Diode       0\n",
       "951    240      Rubber       0\n",
       "\n",
       "[952 rows x 3 columns]"
      ]
     },
     "execution_count": 7,
     "metadata": {},
     "output_type": "execute_result"
    }
   ],
   "source": [
    "open_orders[\"product\"] = open_orders[\"product\"].map({\"prod01\": \"Polyethene\", \"prod02\": \"Iron\", \"prod03\": \"Diode\", \"prod04\": \"Rubber\"})\n",
    "open_orders"
   ]
  },
  {
   "cell_type": "code",
   "execution_count": 12,
   "id": "8c6645cc",
   "metadata": {},
   "outputs": [
    {
     "data": {
      "text/plain": [
       "product\n",
       "Diode          9498.0\n",
       "Iron          18235.0\n",
       "Polyethene    26223.0\n",
       "Rubber        11750.0\n",
       "Name: amount, dtype: float64"
      ]
     },
     "execution_count": 12,
     "metadata": {},
     "output_type": "execute_result"
    }
   ],
   "source": [
    "open_orders.groupby(\"product\")[\"amount\"].mean().round(0)"
   ]
  },
  {
   "cell_type": "code",
   "execution_count": 36,
   "id": "8727dfcd",
   "metadata": {},
   "outputs": [
    {
     "data": {
      "text/plain": [
       "<Figure size 800x600 with 0 Axes>"
      ]
     },
     "metadata": {},
     "output_type": "display_data"
    },
    {
     "data": {
      "image/png": "[encoded data removed]",
      "text/plain": [
       "<Figure size 640x480 with 1 Axes>"
      ]
     },
     "metadata": {},
     "output_type": "display_data"
    }
   ],
   "source": [
    "plt.figure(figsize=(8, 6))\n",
    "open_orders.boxplot(by=\"product\", column=[\"amount\"])\n",
    "\n",
    "plt.xlabel(\"Open Orders\")\n",
    "plt.ylabel(\"Open Order Amounts\")\n",
    "plt.show()"
   ]
  },
  {
   "cell_type": "code",
   "execution_count": 39,
   "id": "0fb46773",
   "metadata": {},
   "outputs": [
    {
     "data": {
      "text/plain": [
       "16426.540966386554"
      ]
     },
     "execution_count": 39,
     "metadata": {},
     "output_type": "execute_result"
    }
   ],
   "source": [
    "open_orders[\"amount\"].mean()"
   ]
  },
  {
   "cell_type": "markdown",
   "id": "59e082ee",
   "metadata": {},
   "source": [
    "The above plot further acknowledges the number of open orders per product. As observed earlier, when the demand for screws changed, so did the orders for raw materials required to fulfill this demand. The plot above highlights the massive range in open orders for `Iron`, being the outlier of the data. The average number of open orders is `16 426` while the average number of open orders for `Iron` and `Polyethylene` are well and above the median. While outliers are not representative of the entire population, they may provide additional valuable information for further analysis as these are phenomenons that often skew the data in a particular direction.\n",
    "\n",
    "The average number of open orders for `Polyethylene` comply with what was assumed earlier, which is that the production function required 3x more units per order to fulfill the demand for covers and LEDs. Orders for `Iron` however, are closer to that of `Diode` and `Rubber` but does not quite match the orders for the raw materials likely due to the outliers that have been found. This provides further evidence of a change in customer demand for screws resulting in the change of raw material requirements for the supplier. The supplier had to order more `Iron` as the game progressed. This was not a gradual change to the strategy, but rather, a big reaction to a big change in customer demand. "
   ]
  },
  {
   "cell_type": "markdown",
   "id": "e4b30996",
   "metadata": {},
   "source": [
    "### Order Amounts Table"
   ]
  },
  {
   "cell_type": "code",
   "execution_count": 55,
   "id": "da613760",
   "metadata": {},
   "outputs": [
    {
     "data": {
      "text/html": [
       "<div>\n",
       "<style scoped>\n",
       "    .dataframe tbody tr th:only-of-type {\n",
       "        vertical-align: middle;\n",
       "    }\n",
       "\n",
       "    .dataframe tbody tr th {\n",
       "        vertical-align: top;\n",
       "    }\n",
       "\n",
       "    .dataframe thead th {\n",
       "        text-align: right;\n",
       "    }\n",
       "</style>\n",
       "<table border=\"1\" class=\"dataframe\">\n",
       "  <thead>\n",
       "    <tr style=\"text-align: right;\">\n",
       "      <th></th>\n",
       "      <th>orderId</th>\n",
       "      <th>round</th>\n",
       "      <th>timestamp</th>\n",
       "      <th>supplier</th>\n",
       "      <th>customer</th>\n",
       "      <th>product</th>\n",
       "      <th>amount</th>\n",
       "    </tr>\n",
       "  </thead>\n",
       "  <tbody>\n",
       "    <tr>\n",
       "      <th>0</th>\n",
       "      <td>5</td>\n",
       "      <td>2</td>\n",
       "      <td>2023-09-12 11:28:54</td>\n",
       "      <td>tier-4</td>\n",
       "      <td>tier-3</td>\n",
       "      <td>prod05</td>\n",
       "      <td>1000</td>\n",
       "    </tr>\n",
       "    <tr>\n",
       "      <th>1</th>\n",
       "      <td>5</td>\n",
       "      <td>2</td>\n",
       "      <td>2023-09-12 11:28:54</td>\n",
       "      <td>tier-4</td>\n",
       "      <td>tier-3</td>\n",
       "      <td>prod06</td>\n",
       "      <td>3000</td>\n",
       "    </tr>\n",
       "    <tr>\n",
       "      <th>2</th>\n",
       "      <td>5</td>\n",
       "      <td>2</td>\n",
       "      <td>2023-09-12 11:28:54</td>\n",
       "      <td>tier-4</td>\n",
       "      <td>tier-3</td>\n",
       "      <td>prod07</td>\n",
       "      <td>1000</td>\n",
       "    </tr>\n",
       "    <tr>\n",
       "      <th>3</th>\n",
       "      <td>5</td>\n",
       "      <td>2</td>\n",
       "      <td>2023-09-12 11:28:54</td>\n",
       "      <td>tier-4</td>\n",
       "      <td>tier-3</td>\n",
       "      <td>prod08</td>\n",
       "      <td>1000</td>\n",
       "    </tr>\n",
       "    <tr>\n",
       "      <th>4</th>\n",
       "      <td>6</td>\n",
       "      <td>2</td>\n",
       "      <td>2023-09-12 11:29:21</td>\n",
       "      <td>base</td>\n",
       "      <td>tier-4</td>\n",
       "      <td>prod01</td>\n",
       "      <td>2000</td>\n",
       "    </tr>\n",
       "    <tr>\n",
       "      <th>...</th>\n",
       "      <td>...</td>\n",
       "      <td>...</td>\n",
       "      <td>...</td>\n",
       "      <td>...</td>\n",
       "      <td>...</td>\n",
       "      <td>...</td>\n",
       "      <td>...</td>\n",
       "    </tr>\n",
       "    <tr>\n",
       "      <th>2787</th>\n",
       "      <td>1653</td>\n",
       "      <td>239</td>\n",
       "      <td>2023-09-15 11:13:28</td>\n",
       "      <td>base</td>\n",
       "      <td>tier-4</td>\n",
       "      <td>prod04</td>\n",
       "      <td>30000</td>\n",
       "    </tr>\n",
       "    <tr>\n",
       "      <th>2788</th>\n",
       "      <td>1655</td>\n",
       "      <td>240</td>\n",
       "      <td>2023-09-15 11:14:05</td>\n",
       "      <td>tier-4</td>\n",
       "      <td>tier-3</td>\n",
       "      <td>prod05</td>\n",
       "      <td>10000</td>\n",
       "    </tr>\n",
       "    <tr>\n",
       "      <th>2789</th>\n",
       "      <td>1655</td>\n",
       "      <td>240</td>\n",
       "      <td>2023-09-15 11:14:05</td>\n",
       "      <td>tier-4</td>\n",
       "      <td>tier-3</td>\n",
       "      <td>prod06</td>\n",
       "      <td>20000</td>\n",
       "    </tr>\n",
       "    <tr>\n",
       "      <th>2790</th>\n",
       "      <td>1655</td>\n",
       "      <td>240</td>\n",
       "      <td>2023-09-15 11:14:05</td>\n",
       "      <td>tier-4</td>\n",
       "      <td>tier-3</td>\n",
       "      <td>prod07</td>\n",
       "      <td>10000</td>\n",
       "    </tr>\n",
       "    <tr>\n",
       "      <th>2791</th>\n",
       "      <td>1655</td>\n",
       "      <td>240</td>\n",
       "      <td>2023-09-15 11:14:05</td>\n",
       "      <td>tier-4</td>\n",
       "      <td>tier-3</td>\n",
       "      <td>prod08</td>\n",
       "      <td>10000</td>\n",
       "    </tr>\n",
       "  </tbody>\n",
       "</table>\n",
       "<p>2792 rows × 7 columns</p>\n",
       "</div>"
      ],
      "text/plain": [
       "      orderId  round           timestamp supplier customer product  amount\n",
       "0           5      2 2023-09-12 11:28:54   tier-4   tier-3  prod05    1000\n",
       "1           5      2 2023-09-12 11:28:54   tier-4   tier-3  prod06    3000\n",
       "2           5      2 2023-09-12 11:28:54   tier-4   tier-3  prod07    1000\n",
       "3           5      2 2023-09-12 11:28:54   tier-4   tier-3  prod08    1000\n",
       "4           6      2 2023-09-12 11:29:21     base   tier-4  prod01    2000\n",
       "...       ...    ...                 ...      ...      ...     ...     ...\n",
       "2787     1653    239 2023-09-15 11:13:28     base   tier-4  prod04   30000\n",
       "2788     1655    240 2023-09-15 11:14:05   tier-4   tier-3  prod05   10000\n",
       "2789     1655    240 2023-09-15 11:14:05   tier-4   tier-3  prod06   20000\n",
       "2790     1655    240 2023-09-15 11:14:05   tier-4   tier-3  prod07   10000\n",
       "2791     1655    240 2023-09-15 11:14:05   tier-4   tier-3  prod08   10000\n",
       "\n",
       "[2792 rows x 7 columns]"
      ]
     },
     "execution_count": 55,
     "metadata": {},
     "output_type": "execute_result"
    }
   ],
   "source": [
    "order_amounts = pandas.read_sql_query(\"SELECT * FROM orderAmounts\", connection)\n",
    "order_amounts"
   ]
  },
  {
   "cell_type": "code",
   "execution_count": 56,
   "id": "6240cefb",
   "metadata": {},
   "outputs": [],
   "source": [
    "order_amounts[\"product\"] = order_amounts[\"product\"].map({\"prod01\": \"Polyethene\", \"prod02\": \"Iron\", \"prod03\": \"Diode\", \"prod04\": \"Rubber\", \"prod05\": \"Cover\", \"prod06\": \"Screw\", \"prod07\": \"LED\", \"prod08\": \"Grill\"})"
   ]
  },
  {
   "cell_type": "code",
   "execution_count": 57,
   "id": "8876142e",
   "metadata": {},
   "outputs": [
    {
     "data": {
      "text/plain": [
       "array(['Cover', 'Screw', 'LED', 'Grill', 'Polyethene', 'Iron', 'Diode',\n",
       "       'Rubber'], dtype=object)"
      ]
     },
     "execution_count": 57,
     "metadata": {},
     "output_type": "execute_result"
    }
   ],
   "source": [
    "order_amounts[\"product\"].unique()"
   ]
  },
  {
   "cell_type": "code",
   "execution_count": 58,
   "id": "55ddd505",
   "metadata": {},
   "outputs": [
    {
     "data": {
      "text/plain": [
       "Cover         378\n",
       "Screw         378\n",
       "LED           378\n",
       "Grill         378\n",
       "Polyethene    320\n",
       "Iron          320\n",
       "Diode         320\n",
       "Rubber        320\n",
       "Name: product, dtype: int64"
      ]
     },
     "execution_count": 58,
     "metadata": {},
     "output_type": "execute_result"
    }
   ],
   "source": [
    "order_amounts[\"product\"].value_counts()"
   ]
  },
  {
   "cell_type": "code",
   "execution_count": 59,
   "id": "1f4dd281",
   "metadata": {},
   "outputs": [],
   "source": [
    "order_amount_mean = order_amounts.groupby([\"product\", \"round\"])[\"amount\"].mean()\n",
    "order_amount_mean_df = pandas.DataFrame(order_amount_mean)"
   ]
  },
  {
   "cell_type": "code",
   "execution_count": 76,
   "id": "d2695aa5",
   "metadata": {},
   "outputs": [
    {
     "data": {
      "image/png": "[encoded data removed]",
      "text/plain": [
       "<Figure size 800x600 with 1 Axes>"
      ]
     },
     "metadata": {},
     "output_type": "display_data"
    }
   ],
   "source": [
    "plt.figure(figsize=(8, 6))\n",
    "plt.title(\"Distribution of Average Order Amounts\")\n",
    "plt.xlabel(\"Product Units\")\n",
    "plt.ylabel(\"Count\")\n",
    "sns.histplot(order_amount_mean_df[\"amount\"].nlargest(10).sort_values(), kde=True)\n",
    "plt.show()"
   ]
  },
  {
   "cell_type": "markdown",
   "id": "4eb4ab6f",
   "metadata": {},
   "source": [
    "The Kernel Density Estimation (KDE) plot provides a visual representation of the distribution of the average number of orders made. What this plot reveals is that the average number of orders lies within the 5500 and 6500 range where the hump is visible. The `mode`, which is a statistical term used to define \"the number that appears the most\", lies within that hump. \n",
    "\n",
    "The data is skewed to the right, meaning more values are found on the left side (the lower range) than the right side (upper range). The plot reveals the extent of the effects of the outlier orders for `Iron` and `Screws` showing how the sudden change has affected the distribution. With a closer look, it becomes clearer that the outliers have an effect on the distribution as a sudden, but slight, rise in the curve is observed after the 9 000 mark.\n",
    "\n",
    "The plot overall suggests that any order exceeding 8 000 units is an irregularity and should be treated as such. "
   ]
  },
  {
   "cell_type": "markdown",
   "id": "9eb4cace",
   "metadata": {},
   "source": [
    "### Orders Table"
   ]
  },
  {
   "cell_type": "code",
   "execution_count": 78,
   "id": "e181f136",
   "metadata": {},
   "outputs": [
    {
     "name": "stderr",
     "output_type": "stream",
     "text": [
      "C:\\Users\\richj\\anaconda3\\lib\\site-packages\\pandas\\io\\sql.py:761: UserWarning: pandas only support SQLAlchemy connectable(engine/connection) ordatabase string URI or sqlite3 DBAPI2 connectionother DBAPI2 objects are not tested, please consider using SQLAlchemy\n",
      "  warnings.warn(\n"
     ]
    },
    {
     "data": {
      "text/html": [
       "<div>\n",
       "<style scoped>\n",
       "    .dataframe tbody tr th:only-of-type {\n",
       "        vertical-align: middle;\n",
       "    }\n",
       "\n",
       "    .dataframe tbody tr th {\n",
       "        vertical-align: top;\n",
       "    }\n",
       "\n",
       "    .dataframe thead th {\n",
       "        text-align: right;\n",
       "    }\n",
       "</style>\n",
       "<table border=\"1\" class=\"dataframe\">\n",
       "  <thead>\n",
       "    <tr style=\"text-align: right;\">\n",
       "      <th></th>\n",
       "      <th>orderId</th>\n",
       "      <th>round</th>\n",
       "      <th>timestamp</th>\n",
       "      <th>supplier</th>\n",
       "      <th>customer</th>\n",
       "      <th>orderCosts</th>\n",
       "    </tr>\n",
       "  </thead>\n",
       "  <tbody>\n",
       "    <tr>\n",
       "      <th>0</th>\n",
       "      <td>5</td>\n",
       "      <td>2</td>\n",
       "      <td>2023-09-12 11:28:54</td>\n",
       "      <td>tier-4</td>\n",
       "      <td>tier-3</td>\n",
       "      <td>2000</td>\n",
       "    </tr>\n",
       "    <tr>\n",
       "      <th>1</th>\n",
       "      <td>6</td>\n",
       "      <td>2</td>\n",
       "      <td>2023-09-12 11:29:21</td>\n",
       "      <td>base</td>\n",
       "      <td>tier-4</td>\n",
       "      <td>1000</td>\n",
       "    </tr>\n",
       "    <tr>\n",
       "      <th>2</th>\n",
       "      <td>9</td>\n",
       "      <td>3</td>\n",
       "      <td>2023-09-12 11:30:11</td>\n",
       "      <td>tier-4</td>\n",
       "      <td>tier-3</td>\n",
       "      <td>2000</td>\n",
       "    </tr>\n",
       "    <tr>\n",
       "      <th>3</th>\n",
       "      <td>11</td>\n",
       "      <td>4</td>\n",
       "      <td>2023-09-12 11:30:37</td>\n",
       "      <td>base</td>\n",
       "      <td>tier-4</td>\n",
       "      <td>1000</td>\n",
       "    </tr>\n",
       "    <tr>\n",
       "      <th>4</th>\n",
       "      <td>12</td>\n",
       "      <td>4</td>\n",
       "      <td>2023-09-12 11:30:59</td>\n",
       "      <td>base</td>\n",
       "      <td>tier-4</td>\n",
       "      <td>1000</td>\n",
       "    </tr>\n",
       "    <tr>\n",
       "      <th>...</th>\n",
       "      <td>...</td>\n",
       "      <td>...</td>\n",
       "      <td>...</td>\n",
       "      <td>...</td>\n",
       "      <td>...</td>\n",
       "      <td>...</td>\n",
       "    </tr>\n",
       "    <tr>\n",
       "      <th>692</th>\n",
       "      <td>1649</td>\n",
       "      <td>238</td>\n",
       "      <td>2023-09-15 11:12:19</td>\n",
       "      <td>base</td>\n",
       "      <td>tier-4</td>\n",
       "      <td>1000</td>\n",
       "    </tr>\n",
       "    <tr>\n",
       "      <th>693</th>\n",
       "      <td>1651</td>\n",
       "      <td>239</td>\n",
       "      <td>2023-09-15 11:12:47</td>\n",
       "      <td>tier-4</td>\n",
       "      <td>tier-3</td>\n",
       "      <td>2000</td>\n",
       "    </tr>\n",
       "    <tr>\n",
       "      <th>694</th>\n",
       "      <td>1652</td>\n",
       "      <td>239</td>\n",
       "      <td>2023-09-15 11:13:12</td>\n",
       "      <td>base</td>\n",
       "      <td>tier-4</td>\n",
       "      <td>1000</td>\n",
       "    </tr>\n",
       "    <tr>\n",
       "      <th>695</th>\n",
       "      <td>1653</td>\n",
       "      <td>239</td>\n",
       "      <td>2023-09-15 11:13:28</td>\n",
       "      <td>base</td>\n",
       "      <td>tier-4</td>\n",
       "      <td>1000</td>\n",
       "    </tr>\n",
       "    <tr>\n",
       "      <th>696</th>\n",
       "      <td>1655</td>\n",
       "      <td>240</td>\n",
       "      <td>2023-09-15 11:14:05</td>\n",
       "      <td>tier-4</td>\n",
       "      <td>tier-3</td>\n",
       "      <td>2000</td>\n",
       "    </tr>\n",
       "  </tbody>\n",
       "</table>\n",
       "<p>697 rows × 6 columns</p>\n",
       "</div>"
      ],
      "text/plain": [
       "     orderId  round           timestamp supplier customer  orderCosts\n",
       "0          5      2 2023-09-12 11:28:54   tier-4   tier-3        2000\n",
       "1          6      2 2023-09-12 11:29:21     base   tier-4        1000\n",
       "2          9      3 2023-09-12 11:30:11   tier-4   tier-3        2000\n",
       "3         11      4 2023-09-12 11:30:37     base   tier-4        1000\n",
       "4         12      4 2023-09-12 11:30:59     base   tier-4        1000\n",
       "..       ...    ...                 ...      ...      ...         ...\n",
       "692     1649    238 2023-09-15 11:12:19     base   tier-4        1000\n",
       "693     1651    239 2023-09-15 11:12:47   tier-4   tier-3        2000\n",
       "694     1652    239 2023-09-15 11:13:12     base   tier-4        1000\n",
       "695     1653    239 2023-09-15 11:13:28     base   tier-4        1000\n",
       "696     1655    240 2023-09-15 11:14:05   tier-4   tier-3        2000\n",
       "\n",
       "[697 rows x 6 columns]"
      ]
     },
     "execution_count": 78,
     "metadata": {},
     "output_type": "execute_result"
    }
   ],
   "source": [
    "orders = pandas.read_sql_query(\"SELECT * FROM orders\", connection)\n",
    "orders"
   ]
  },
  {
   "cell_type": "code",
   "execution_count": 101,
   "id": "fc987748",
   "metadata": {},
   "outputs": [
    {
     "data": {
      "image/png": "[encoded data removed]",
      "text/plain": [
       "<Figure size 1000x500 with 2 Axes>"
      ]
     },
     "metadata": {},
     "output_type": "display_data"
    }
   ],
   "source": [
    "sns.displot(data=orders, x=\"orderCosts\", col=\"supplier\", rug=True)\n",
    "plt.show()"
   ]
  },
  {
   "cell_type": "code",
   "execution_count": 102,
   "id": "97c41b89",
   "metadata": {},
   "outputs": [
    {
     "data": {
      "image/png": "[encoded data removed]",
      "text/plain": [
       "<Figure size 1000x500 with 2 Axes>"
      ]
     },
     "metadata": {},
     "output_type": "display_data"
    }
   ],
   "source": [
    "sns.displot(data=orders, x=\"orderCosts\", col=\"customer\", rug=True)\n",
    "plt.show()"
   ]
  },
  {
   "cell_type": "markdown",
   "id": "921ccebb",
   "metadata": {},
   "source": [
    "Unfortunately, with limited information, it is not wise to make assumptions on order costs based on the plots above. The plots above suggest that orders from the base supplier are reasonably priced when stacked against ordering from the tier-4 supplier. This may be the case infact as the tier-4 supplier may be an expensive alternative to the base supplier. The same applies to selling to the customer where the plots suggest that the costs associated with selling to tier-4 customers are reasonably priced when compared to the order costs of selling to tier-3 customers, of which may be the alternative.\n",
    "\n",
    "These plots do provide room to assume that ordering from the base supplier and selling to the base customer should be the preferred option as these are the inexpensive options. The alternative customer and supplier come with higher order costs as they may be operating in different regions, different markets under different laws regarding imports, taxation, etc., of which may be contributors to the higher costs associated. This is merely a suggestion however and not a clear determination of the \"best\" options."
   ]
  },
  {
   "cell_type": "markdown",
   "id": "58a4fdcb",
   "metadata": {},
   "source": [
    "### Production Amounts Table"
   ]
  },
  {
   "cell_type": "code",
   "execution_count": 7,
   "id": "389758a7",
   "metadata": {},
   "outputs": [
    {
     "name": "stderr",
     "output_type": "stream",
     "text": [
      "C:\\Users\\richj\\anaconda3\\lib\\site-packages\\pandas\\io\\sql.py:761: UserWarning: pandas only support SQLAlchemy connectable(engine/connection) ordatabase string URI or sqlite3 DBAPI2 connectionother DBAPI2 objects are not tested, please consider using SQLAlchemy\n",
      "  warnings.warn(\n"
     ]
    },
    {
     "data": {
      "text/html": [
       "<div>\n",
       "<style scoped>\n",
       "    .dataframe tbody tr th:only-of-type {\n",
       "        vertical-align: middle;\n",
       "    }\n",
       "\n",
       "    .dataframe tbody tr th {\n",
       "        vertical-align: top;\n",
       "    }\n",
       "\n",
       "    .dataframe thead th {\n",
       "        text-align: right;\n",
       "    }\n",
       "</style>\n",
       "<table border=\"1\" class=\"dataframe\">\n",
       "  <thead>\n",
       "    <tr style=\"text-align: right;\">\n",
       "      <th></th>\n",
       "      <th>productionId</th>\n",
       "      <th>round</th>\n",
       "      <th>timestamp</th>\n",
       "      <th>product</th>\n",
       "      <th>amount</th>\n",
       "    </tr>\n",
       "  </thead>\n",
       "  <tbody>\n",
       "    <tr>\n",
       "      <th>0</th>\n",
       "      <td>1</td>\n",
       "      <td>3</td>\n",
       "      <td>2023-09-12 11:30:01</td>\n",
       "      <td>prod05</td>\n",
       "      <td>2000</td>\n",
       "    </tr>\n",
       "    <tr>\n",
       "      <th>1</th>\n",
       "      <td>1</td>\n",
       "      <td>3</td>\n",
       "      <td>2023-09-12 11:30:01</td>\n",
       "      <td>prod06</td>\n",
       "      <td>0</td>\n",
       "    </tr>\n",
       "    <tr>\n",
       "      <th>2</th>\n",
       "      <td>1</td>\n",
       "      <td>3</td>\n",
       "      <td>2023-09-12 11:30:01</td>\n",
       "      <td>prod07</td>\n",
       "      <td>0</td>\n",
       "    </tr>\n",
       "    <tr>\n",
       "      <th>3</th>\n",
       "      <td>1</td>\n",
       "      <td>3</td>\n",
       "      <td>2023-09-12 11:30:01</td>\n",
       "      <td>prod08</td>\n",
       "      <td>0</td>\n",
       "    </tr>\n",
       "    <tr>\n",
       "      <th>4</th>\n",
       "      <td>5</td>\n",
       "      <td>4</td>\n",
       "      <td>2023-09-12 11:30:54</td>\n",
       "      <td>prod05</td>\n",
       "      <td>0</td>\n",
       "    </tr>\n",
       "    <tr>\n",
       "      <th>...</th>\n",
       "      <td>...</td>\n",
       "      <td>...</td>\n",
       "      <td>...</td>\n",
       "      <td>...</td>\n",
       "      <td>...</td>\n",
       "    </tr>\n",
       "    <tr>\n",
       "      <th>1583</th>\n",
       "      <td>1480</td>\n",
       "      <td>240</td>\n",
       "      <td>2023-09-15 11:13:45</td>\n",
       "      <td>prod08</td>\n",
       "      <td>0</td>\n",
       "    </tr>\n",
       "    <tr>\n",
       "      <th>1584</th>\n",
       "      <td>1481</td>\n",
       "      <td>240</td>\n",
       "      <td>2023-09-15 11:13:57</td>\n",
       "      <td>prod05</td>\n",
       "      <td>0</td>\n",
       "    </tr>\n",
       "    <tr>\n",
       "      <th>1585</th>\n",
       "      <td>1481</td>\n",
       "      <td>240</td>\n",
       "      <td>2023-09-15 11:13:57</td>\n",
       "      <td>prod06</td>\n",
       "      <td>40000</td>\n",
       "    </tr>\n",
       "    <tr>\n",
       "      <th>1586</th>\n",
       "      <td>1481</td>\n",
       "      <td>240</td>\n",
       "      <td>2023-09-15 11:13:57</td>\n",
       "      <td>prod07</td>\n",
       "      <td>0</td>\n",
       "    </tr>\n",
       "    <tr>\n",
       "      <th>1587</th>\n",
       "      <td>1481</td>\n",
       "      <td>240</td>\n",
       "      <td>2023-09-15 11:13:57</td>\n",
       "      <td>prod08</td>\n",
       "      <td>0</td>\n",
       "    </tr>\n",
       "  </tbody>\n",
       "</table>\n",
       "<p>1588 rows × 5 columns</p>\n",
       "</div>"
      ],
      "text/plain": [
       "      productionId  round           timestamp product  amount\n",
       "0                1      3 2023-09-12 11:30:01  prod05    2000\n",
       "1                1      3 2023-09-12 11:30:01  prod06       0\n",
       "2                1      3 2023-09-12 11:30:01  prod07       0\n",
       "3                1      3 2023-09-12 11:30:01  prod08       0\n",
       "4                5      4 2023-09-12 11:30:54  prod05       0\n",
       "...            ...    ...                 ...     ...     ...\n",
       "1583          1480    240 2023-09-15 11:13:45  prod08       0\n",
       "1584          1481    240 2023-09-15 11:13:57  prod05       0\n",
       "1585          1481    240 2023-09-15 11:13:57  prod06   40000\n",
       "1586          1481    240 2023-09-15 11:13:57  prod07       0\n",
       "1587          1481    240 2023-09-15 11:13:57  prod08       0\n",
       "\n",
       "[1588 rows x 5 columns]"
      ]
     },
     "execution_count": 7,
     "metadata": {},
     "output_type": "execute_result"
    }
   ],
   "source": [
    "prod_amounts = pandas.read_sql_query(\"SELECT * FROM productionAmounts\", connection)\n",
    "prod_amounts"
   ]
  },
  {
   "cell_type": "code",
   "execution_count": 8,
   "id": "5db5c596",
   "metadata": {},
   "outputs": [
    {
     "data": {
      "text/html": [
       "<div>\n",
       "<style scoped>\n",
       "    .dataframe tbody tr th:only-of-type {\n",
       "        vertical-align: middle;\n",
       "    }\n",
       "\n",
       "    .dataframe tbody tr th {\n",
       "        vertical-align: top;\n",
       "    }\n",
       "\n",
       "    .dataframe thead th {\n",
       "        text-align: right;\n",
       "    }\n",
       "</style>\n",
       "<table border=\"1\" class=\"dataframe\">\n",
       "  <thead>\n",
       "    <tr style=\"text-align: right;\">\n",
       "      <th></th>\n",
       "      <th>round</th>\n",
       "      <th>product</th>\n",
       "      <th>amount</th>\n",
       "    </tr>\n",
       "  </thead>\n",
       "  <tbody>\n",
       "    <tr>\n",
       "      <th>0</th>\n",
       "      <td>3</td>\n",
       "      <td>prod05</td>\n",
       "      <td>2000</td>\n",
       "    </tr>\n",
       "    <tr>\n",
       "      <th>1</th>\n",
       "      <td>3</td>\n",
       "      <td>prod06</td>\n",
       "      <td>0</td>\n",
       "    </tr>\n",
       "    <tr>\n",
       "      <th>2</th>\n",
       "      <td>3</td>\n",
       "      <td>prod07</td>\n",
       "      <td>0</td>\n",
       "    </tr>\n",
       "    <tr>\n",
       "      <th>3</th>\n",
       "      <td>3</td>\n",
       "      <td>prod08</td>\n",
       "      <td>0</td>\n",
       "    </tr>\n",
       "    <tr>\n",
       "      <th>4</th>\n",
       "      <td>4</td>\n",
       "      <td>prod05</td>\n",
       "      <td>0</td>\n",
       "    </tr>\n",
       "    <tr>\n",
       "      <th>...</th>\n",
       "      <td>...</td>\n",
       "      <td>...</td>\n",
       "      <td>...</td>\n",
       "    </tr>\n",
       "    <tr>\n",
       "      <th>1583</th>\n",
       "      <td>240</td>\n",
       "      <td>prod08</td>\n",
       "      <td>0</td>\n",
       "    </tr>\n",
       "    <tr>\n",
       "      <th>1584</th>\n",
       "      <td>240</td>\n",
       "      <td>prod05</td>\n",
       "      <td>0</td>\n",
       "    </tr>\n",
       "    <tr>\n",
       "      <th>1585</th>\n",
       "      <td>240</td>\n",
       "      <td>prod06</td>\n",
       "      <td>40000</td>\n",
       "    </tr>\n",
       "    <tr>\n",
       "      <th>1586</th>\n",
       "      <td>240</td>\n",
       "      <td>prod07</td>\n",
       "      <td>0</td>\n",
       "    </tr>\n",
       "    <tr>\n",
       "      <th>1587</th>\n",
       "      <td>240</td>\n",
       "      <td>prod08</td>\n",
       "      <td>0</td>\n",
       "    </tr>\n",
       "  </tbody>\n",
       "</table>\n",
       "<p>1588 rows × 3 columns</p>\n",
       "</div>"
      ],
      "text/plain": [
       "      round product  amount\n",
       "0         3  prod05    2000\n",
       "1         3  prod06       0\n",
       "2         3  prod07       0\n",
       "3         3  prod08       0\n",
       "4         4  prod05       0\n",
       "...     ...     ...     ...\n",
       "1583    240  prod08       0\n",
       "1584    240  prod05       0\n",
       "1585    240  prod06   40000\n",
       "1586    240  prod07       0\n",
       "1587    240  prod08       0\n",
       "\n",
       "[1588 rows x 3 columns]"
      ]
     },
     "execution_count": 8,
     "metadata": {},
     "output_type": "execute_result"
    }
   ],
   "source": [
    "prod_amounts = prod_amounts[[\"round\", \"product\", \"amount\"]]\n",
    "prod_amounts"
   ]
  },
  {
   "cell_type": "code",
   "execution_count": 9,
   "id": "98213007",
   "metadata": {},
   "outputs": [
    {
     "name": "stderr",
     "output_type": "stream",
     "text": [
      "C:\\Users\\richj\\AppData\\Local\\Temp\\ipykernel_13488\\3571406199.py:1: SettingWithCopyWarning: \n",
      "A value is trying to be set on a copy of a slice from a DataFrame.\n",
      "Try using .loc[row_indexer,col_indexer] = value instead\n",
      "\n",
      "See the caveats in the documentation: https://pandas.pydata.org/pandas-docs/stable/user_guide/indexing.html#returning-a-view-versus-a-copy\n",
      "  prod_amounts[\"product\"] = prod_amounts[\"product\"].map({\"prod05\": \"Cover\", \"prod06\": \"Screw\", \"prod07\": \"LED\", \"prod08\": \"Grill\"})\n"
     ]
    }
   ],
   "source": [
    "prod_amounts[\"product\"] = prod_amounts[\"product\"].map({\"prod05\": \"Cover\", \"prod06\": \"Screw\", \"prod07\": \"LED\", \"prod08\": \"Grill\"})"
   ]
  },
  {
   "cell_type": "code",
   "execution_count": 10,
   "id": "c9d93fa3",
   "metadata": {},
   "outputs": [
    {
     "data": {
      "text/plain": [
       "array(['Cover', 'Screw', 'LED', 'Grill'], dtype=object)"
      ]
     },
     "execution_count": 10,
     "metadata": {},
     "output_type": "execute_result"
    }
   ],
   "source": [
    "prod_amounts[\"product\"].unique()"
   ]
  },
  {
   "cell_type": "code",
   "execution_count": 11,
   "id": "6680629b",
   "metadata": {},
   "outputs": [
    {
     "data": {
      "text/html": [
       "<div>\n",
       "<style scoped>\n",
       "    .dataframe tbody tr th:only-of-type {\n",
       "        vertical-align: middle;\n",
       "    }\n",
       "\n",
       "    .dataframe tbody tr th {\n",
       "        vertical-align: top;\n",
       "    }\n",
       "\n",
       "    .dataframe thead th {\n",
       "        text-align: right;\n",
       "    }\n",
       "</style>\n",
       "<table border=\"1\" class=\"dataframe\">\n",
       "  <thead>\n",
       "    <tr style=\"text-align: right;\">\n",
       "      <th></th>\n",
       "      <th>round</th>\n",
       "      <th>product</th>\n",
       "      <th>amount</th>\n",
       "    </tr>\n",
       "  </thead>\n",
       "  <tbody>\n",
       "    <tr>\n",
       "      <th>0</th>\n",
       "      <td>3</td>\n",
       "      <td>Cover</td>\n",
       "      <td>2000</td>\n",
       "    </tr>\n",
       "    <tr>\n",
       "      <th>1</th>\n",
       "      <td>3</td>\n",
       "      <td>Screw</td>\n",
       "      <td>0</td>\n",
       "    </tr>\n",
       "    <tr>\n",
       "      <th>2</th>\n",
       "      <td>3</td>\n",
       "      <td>LED</td>\n",
       "      <td>0</td>\n",
       "    </tr>\n",
       "    <tr>\n",
       "      <th>3</th>\n",
       "      <td>3</td>\n",
       "      <td>Grill</td>\n",
       "      <td>0</td>\n",
       "    </tr>\n",
       "    <tr>\n",
       "      <th>4</th>\n",
       "      <td>4</td>\n",
       "      <td>Cover</td>\n",
       "      <td>0</td>\n",
       "    </tr>\n",
       "    <tr>\n",
       "      <th>...</th>\n",
       "      <td>...</td>\n",
       "      <td>...</td>\n",
       "      <td>...</td>\n",
       "    </tr>\n",
       "    <tr>\n",
       "      <th>1583</th>\n",
       "      <td>240</td>\n",
       "      <td>Grill</td>\n",
       "      <td>0</td>\n",
       "    </tr>\n",
       "    <tr>\n",
       "      <th>1584</th>\n",
       "      <td>240</td>\n",
       "      <td>Cover</td>\n",
       "      <td>0</td>\n",
       "    </tr>\n",
       "    <tr>\n",
       "      <th>1585</th>\n",
       "      <td>240</td>\n",
       "      <td>Screw</td>\n",
       "      <td>40000</td>\n",
       "    </tr>\n",
       "    <tr>\n",
       "      <th>1586</th>\n",
       "      <td>240</td>\n",
       "      <td>LED</td>\n",
       "      <td>0</td>\n",
       "    </tr>\n",
       "    <tr>\n",
       "      <th>1587</th>\n",
       "      <td>240</td>\n",
       "      <td>Grill</td>\n",
       "      <td>0</td>\n",
       "    </tr>\n",
       "  </tbody>\n",
       "</table>\n",
       "<p>1588 rows × 3 columns</p>\n",
       "</div>"
      ],
      "text/plain": [
       "      round product  amount\n",
       "0         3   Cover    2000\n",
       "1         3   Screw       0\n",
       "2         3     LED       0\n",
       "3         3   Grill       0\n",
       "4         4   Cover       0\n",
       "...     ...     ...     ...\n",
       "1583    240   Grill       0\n",
       "1584    240   Cover       0\n",
       "1585    240   Screw   40000\n",
       "1586    240     LED       0\n",
       "1587    240   Grill       0\n",
       "\n",
       "[1588 rows x 3 columns]"
      ]
     },
     "execution_count": 11,
     "metadata": {},
     "output_type": "execute_result"
    }
   ],
   "source": [
    "prod_amounts"
   ]
  },
  {
   "cell_type": "code",
   "execution_count": 119,
   "id": "4a386b3a",
   "metadata": {},
   "outputs": [
    {
     "data": {
      "text/plain": [
       "product\n",
       "Cover     4483.695214\n",
       "Grill     7170.075567\n",
       "LED       5681.360202\n",
       "Screw    10969.823678\n",
       "Name: amount, dtype: float64"
      ]
     },
     "execution_count": 119,
     "metadata": {},
     "output_type": "execute_result"
    }
   ],
   "source": [
    "prod_averages = prod_amounts.groupby([\"product\"])[\"amount\"].mean()\n",
    "prod_averages"
   ]
  },
  {
   "cell_type": "code",
   "execution_count": 125,
   "id": "cd3ed419",
   "metadata": {},
   "outputs": [
    {
     "data": {
      "image/png": "[encoded data removed]",
      "text/plain": [
       "<Figure size 800x600 with 1 Axes>"
      ]
     },
     "metadata": {},
     "output_type": "display_data"
    }
   ],
   "source": [
    "plt.figure(figsize=(8, 6))\n",
    "plt.title(\"Average Production Amounts grouped by Product\")\n",
    "sns.barplot(x=prod_averages.index, y=prod_averages.values)\n",
    "plt.xlabel(\"Product\")\n",
    "plt.ylabel(\"\")\n",
    "plt.show()"
   ]
  },
  {
   "cell_type": "markdown",
   "id": "1dd51064",
   "metadata": {},
   "source": [
    "## Machine Learning & Deeper Statistical Analysis"
   ]
  },
  {
   "cell_type": "markdown",
   "id": "e4efc415",
   "metadata": {},
   "source": [
    "Having observed the data above, the following steps will involve applying the data to a Random Forest model which is great for both classification and regression tasks. A Random Forest model is a collection of decision trees, where each tree is trained on a random subset of the data and its features. \n",
    "\n",
    "A Random Forest model serves itself as a way of analysing the aforementioned data as it is known for its robustness, and its ability to grasp complex relationships between features, all while maintaining resistance to overfitting. Overfitting is referred to as the phenomenon where a model has \"memorised\" the data it has been trained on and fails to perform when tested on data it has not been exposed to before. Imagine reading a book about driving a car and believing that you have achieved mastery having finished the book, instead of actually driving the car and learning in the \"test\" environment, out on the road. We want to avoid this."
   ]
  },
  {
   "cell_type": "code",
   "execution_count": 1,
   "id": "46505df2",
   "metadata": {},
   "outputs": [],
   "source": [
    "from sklearn.ensemble import RandomForestRegressor\n",
    "from sklearn.model_selection import train_test_split\n",
    "from sklearn.metrics import mean_absolute_error, mean_squared_error\n",
    "import numpy as np"
   ]
  },
  {
   "cell_type": "markdown",
   "id": "6cafef41",
   "metadata": {},
   "source": [
    "### Data Preprocessing"
   ]
  },
  {
   "cell_type": "code",
   "execution_count": 12,
   "id": "7c428a33",
   "metadata": {},
   "outputs": [
    {
     "data": {
      "text/html": [
       "<div>\n",
       "<style scoped>\n",
       "    .dataframe tbody tr th:only-of-type {\n",
       "        vertical-align: middle;\n",
       "    }\n",
       "\n",
       "    .dataframe tbody tr th {\n",
       "        vertical-align: top;\n",
       "    }\n",
       "\n",
       "    .dataframe thead th {\n",
       "        text-align: right;\n",
       "    }\n",
       "</style>\n",
       "<table border=\"1\" class=\"dataframe\">\n",
       "  <thead>\n",
       "    <tr style=\"text-align: right;\">\n",
       "      <th></th>\n",
       "      <th>round</th>\n",
       "      <th>product</th>\n",
       "      <th>amount</th>\n",
       "    </tr>\n",
       "  </thead>\n",
       "  <tbody>\n",
       "    <tr>\n",
       "      <th>0</th>\n",
       "      <td>3</td>\n",
       "      <td>Cover</td>\n",
       "      <td>2000</td>\n",
       "    </tr>\n",
       "    <tr>\n",
       "      <th>1</th>\n",
       "      <td>3</td>\n",
       "      <td>Screw</td>\n",
       "      <td>0</td>\n",
       "    </tr>\n",
       "    <tr>\n",
       "      <th>2</th>\n",
       "      <td>3</td>\n",
       "      <td>LED</td>\n",
       "      <td>0</td>\n",
       "    </tr>\n",
       "    <tr>\n",
       "      <th>3</th>\n",
       "      <td>3</td>\n",
       "      <td>Grill</td>\n",
       "      <td>0</td>\n",
       "    </tr>\n",
       "    <tr>\n",
       "      <th>4</th>\n",
       "      <td>4</td>\n",
       "      <td>Cover</td>\n",
       "      <td>0</td>\n",
       "    </tr>\n",
       "    <tr>\n",
       "      <th>...</th>\n",
       "      <td>...</td>\n",
       "      <td>...</td>\n",
       "      <td>...</td>\n",
       "    </tr>\n",
       "    <tr>\n",
       "      <th>1583</th>\n",
       "      <td>240</td>\n",
       "      <td>Grill</td>\n",
       "      <td>0</td>\n",
       "    </tr>\n",
       "    <tr>\n",
       "      <th>1584</th>\n",
       "      <td>240</td>\n",
       "      <td>Cover</td>\n",
       "      <td>0</td>\n",
       "    </tr>\n",
       "    <tr>\n",
       "      <th>1585</th>\n",
       "      <td>240</td>\n",
       "      <td>Screw</td>\n",
       "      <td>40000</td>\n",
       "    </tr>\n",
       "    <tr>\n",
       "      <th>1586</th>\n",
       "      <td>240</td>\n",
       "      <td>LED</td>\n",
       "      <td>0</td>\n",
       "    </tr>\n",
       "    <tr>\n",
       "      <th>1587</th>\n",
       "      <td>240</td>\n",
       "      <td>Grill</td>\n",
       "      <td>0</td>\n",
       "    </tr>\n",
       "  </tbody>\n",
       "</table>\n",
       "<p>1588 rows × 3 columns</p>\n",
       "</div>"
      ],
      "text/plain": [
       "      round product  amount\n",
       "0         3   Cover    2000\n",
       "1         3   Screw       0\n",
       "2         3     LED       0\n",
       "3         3   Grill       0\n",
       "4         4   Cover       0\n",
       "...     ...     ...     ...\n",
       "1583    240   Grill       0\n",
       "1584    240   Cover       0\n",
       "1585    240   Screw   40000\n",
       "1586    240     LED       0\n",
       "1587    240   Grill       0\n",
       "\n",
       "[1588 rows x 3 columns]"
      ]
     },
     "execution_count": 12,
     "metadata": {},
     "output_type": "execute_result"
    }
   ],
   "source": [
    "prod_amounts"
   ]
  },
  {
   "cell_type": "code",
   "execution_count": 19,
   "id": "ff73c3d8",
   "metadata": {},
   "outputs": [
    {
     "data": {
      "text/html": [
       "<div>\n",
       "<style scoped>\n",
       "    .dataframe tbody tr th:only-of-type {\n",
       "        vertical-align: middle;\n",
       "    }\n",
       "\n",
       "    .dataframe tbody tr th {\n",
       "        vertical-align: top;\n",
       "    }\n",
       "\n",
       "    .dataframe thead th {\n",
       "        text-align: right;\n",
       "    }\n",
       "</style>\n",
       "<table border=\"1\" class=\"dataframe\">\n",
       "  <thead>\n",
       "    <tr style=\"text-align: right;\">\n",
       "      <th></th>\n",
       "      <th>round</th>\n",
       "      <th>amount</th>\n",
       "      <th>product_Cover</th>\n",
       "      <th>product_Grill</th>\n",
       "      <th>product_LED</th>\n",
       "      <th>product_Screw</th>\n",
       "    </tr>\n",
       "  </thead>\n",
       "  <tbody>\n",
       "    <tr>\n",
       "      <th>0</th>\n",
       "      <td>3</td>\n",
       "      <td>2000</td>\n",
       "      <td>1</td>\n",
       "      <td>0</td>\n",
       "      <td>0</td>\n",
       "      <td>0</td>\n",
       "    </tr>\n",
       "    <tr>\n",
       "      <th>1</th>\n",
       "      <td>3</td>\n",
       "      <td>0</td>\n",
       "      <td>0</td>\n",
       "      <td>0</td>\n",
       "      <td>0</td>\n",
       "      <td>1</td>\n",
       "    </tr>\n",
       "    <tr>\n",
       "      <th>2</th>\n",
       "      <td>3</td>\n",
       "      <td>0</td>\n",
       "      <td>0</td>\n",
       "      <td>0</td>\n",
       "      <td>1</td>\n",
       "      <td>0</td>\n",
       "    </tr>\n",
       "    <tr>\n",
       "      <th>3</th>\n",
       "      <td>3</td>\n",
       "      <td>0</td>\n",
       "      <td>0</td>\n",
       "      <td>1</td>\n",
       "      <td>0</td>\n",
       "      <td>0</td>\n",
       "    </tr>\n",
       "    <tr>\n",
       "      <th>4</th>\n",
       "      <td>4</td>\n",
       "      <td>0</td>\n",
       "      <td>1</td>\n",
       "      <td>0</td>\n",
       "      <td>0</td>\n",
       "      <td>0</td>\n",
       "    </tr>\n",
       "    <tr>\n",
       "      <th>...</th>\n",
       "      <td>...</td>\n",
       "      <td>...</td>\n",
       "      <td>...</td>\n",
       "      <td>...</td>\n",
       "      <td>...</td>\n",
       "      <td>...</td>\n",
       "    </tr>\n",
       "    <tr>\n",
       "      <th>1583</th>\n",
       "      <td>240</td>\n",
       "      <td>0</td>\n",
       "      <td>0</td>\n",
       "      <td>1</td>\n",
       "      <td>0</td>\n",
       "      <td>0</td>\n",
       "    </tr>\n",
       "    <tr>\n",
       "      <th>1584</th>\n",
       "      <td>240</td>\n",
       "      <td>0</td>\n",
       "      <td>1</td>\n",
       "      <td>0</td>\n",
       "      <td>0</td>\n",
       "      <td>0</td>\n",
       "    </tr>\n",
       "    <tr>\n",
       "      <th>1585</th>\n",
       "      <td>240</td>\n",
       "      <td>40000</td>\n",
       "      <td>0</td>\n",
       "      <td>0</td>\n",
       "      <td>0</td>\n",
       "      <td>1</td>\n",
       "    </tr>\n",
       "    <tr>\n",
       "      <th>1586</th>\n",
       "      <td>240</td>\n",
       "      <td>0</td>\n",
       "      <td>0</td>\n",
       "      <td>0</td>\n",
       "      <td>1</td>\n",
       "      <td>0</td>\n",
       "    </tr>\n",
       "    <tr>\n",
       "      <th>1587</th>\n",
       "      <td>240</td>\n",
       "      <td>0</td>\n",
       "      <td>0</td>\n",
       "      <td>1</td>\n",
       "      <td>0</td>\n",
       "      <td>0</td>\n",
       "    </tr>\n",
       "  </tbody>\n",
       "</table>\n",
       "<p>1588 rows × 6 columns</p>\n",
       "</div>"
      ],
      "text/plain": [
       "      round  amount  product_Cover  product_Grill  product_LED  product_Screw\n",
       "0         3    2000              1              0            0              0\n",
       "1         3       0              0              0            0              1\n",
       "2         3       0              0              0            1              0\n",
       "3         3       0              0              1            0              0\n",
       "4         4       0              1              0            0              0\n",
       "...     ...     ...            ...            ...          ...            ...\n",
       "1583    240       0              0              1            0              0\n",
       "1584    240       0              1              0            0              0\n",
       "1585    240   40000              0              0            0              1\n",
       "1586    240       0              0              0            1              0\n",
       "1587    240       0              0              1            0              0\n",
       "\n",
       "[1588 rows x 6 columns]"
      ]
     },
     "execution_count": 19,
     "metadata": {},
     "output_type": "execute_result"
    }
   ],
   "source": [
    "data = pandas.get_dummies(prod_amounts, columns=[\"product\"], drop_first=False)\n",
    "data"
   ]
  },
  {
   "cell_type": "markdown",
   "id": "ffa8957d",
   "metadata": {},
   "source": [
    "The steps below involve splitting the data into 80/20 splits where 80% of the data will be used to train the model, and 20% of the data will be used to test the model to determine how well it has grasped the underlying patterns between the features of the data that have been supplied."
   ]
  },
  {
   "cell_type": "code",
   "execution_count": 20,
   "id": "c32cc56b",
   "metadata": {},
   "outputs": [],
   "source": [
    "train_size = int(0.8 * len(data))\n",
    "train_data, test_data = data[:train_size], data[train_size:]"
   ]
  },
  {
   "cell_type": "code",
   "execution_count": 21,
   "id": "9f8ebab5",
   "metadata": {},
   "outputs": [
    {
     "data": {
      "text/html": [
       "<div>\n",
       "<style scoped>\n",
       "    .dataframe tbody tr th:only-of-type {\n",
       "        vertical-align: middle;\n",
       "    }\n",
       "\n",
       "    .dataframe tbody tr th {\n",
       "        vertical-align: top;\n",
       "    }\n",
       "\n",
       "    .dataframe thead th {\n",
       "        text-align: right;\n",
       "    }\n",
       "</style>\n",
       "<table border=\"1\" class=\"dataframe\">\n",
       "  <thead>\n",
       "    <tr style=\"text-align: right;\">\n",
       "      <th></th>\n",
       "      <th>round</th>\n",
       "      <th>amount</th>\n",
       "      <th>product_Cover</th>\n",
       "      <th>product_Grill</th>\n",
       "      <th>product_LED</th>\n",
       "      <th>product_Screw</th>\n",
       "    </tr>\n",
       "  </thead>\n",
       "  <tbody>\n",
       "    <tr>\n",
       "      <th>0</th>\n",
       "      <td>3</td>\n",
       "      <td>2000</td>\n",
       "      <td>1</td>\n",
       "      <td>0</td>\n",
       "      <td>0</td>\n",
       "      <td>0</td>\n",
       "    </tr>\n",
       "    <tr>\n",
       "      <th>1</th>\n",
       "      <td>3</td>\n",
       "      <td>0</td>\n",
       "      <td>0</td>\n",
       "      <td>0</td>\n",
       "      <td>0</td>\n",
       "      <td>1</td>\n",
       "    </tr>\n",
       "    <tr>\n",
       "      <th>2</th>\n",
       "      <td>3</td>\n",
       "      <td>0</td>\n",
       "      <td>0</td>\n",
       "      <td>0</td>\n",
       "      <td>1</td>\n",
       "      <td>0</td>\n",
       "    </tr>\n",
       "    <tr>\n",
       "      <th>3</th>\n",
       "      <td>3</td>\n",
       "      <td>0</td>\n",
       "      <td>0</td>\n",
       "      <td>1</td>\n",
       "      <td>0</td>\n",
       "      <td>0</td>\n",
       "    </tr>\n",
       "    <tr>\n",
       "      <th>4</th>\n",
       "      <td>4</td>\n",
       "      <td>0</td>\n",
       "      <td>1</td>\n",
       "      <td>0</td>\n",
       "      <td>0</td>\n",
       "      <td>0</td>\n",
       "    </tr>\n",
       "    <tr>\n",
       "      <th>...</th>\n",
       "      <td>...</td>\n",
       "      <td>...</td>\n",
       "      <td>...</td>\n",
       "      <td>...</td>\n",
       "      <td>...</td>\n",
       "      <td>...</td>\n",
       "    </tr>\n",
       "    <tr>\n",
       "      <th>1265</th>\n",
       "      <td>199</td>\n",
       "      <td>0</td>\n",
       "      <td>0</td>\n",
       "      <td>0</td>\n",
       "      <td>0</td>\n",
       "      <td>1</td>\n",
       "    </tr>\n",
       "    <tr>\n",
       "      <th>1266</th>\n",
       "      <td>199</td>\n",
       "      <td>0</td>\n",
       "      <td>0</td>\n",
       "      <td>0</td>\n",
       "      <td>1</td>\n",
       "      <td>0</td>\n",
       "    </tr>\n",
       "    <tr>\n",
       "      <th>1267</th>\n",
       "      <td>199</td>\n",
       "      <td>9000</td>\n",
       "      <td>0</td>\n",
       "      <td>1</td>\n",
       "      <td>0</td>\n",
       "      <td>0</td>\n",
       "    </tr>\n",
       "    <tr>\n",
       "      <th>1268</th>\n",
       "      <td>200</td>\n",
       "      <td>0</td>\n",
       "      <td>1</td>\n",
       "      <td>0</td>\n",
       "      <td>0</td>\n",
       "      <td>0</td>\n",
       "    </tr>\n",
       "    <tr>\n",
       "      <th>1269</th>\n",
       "      <td>200</td>\n",
       "      <td>20000</td>\n",
       "      <td>0</td>\n",
       "      <td>0</td>\n",
       "      <td>0</td>\n",
       "      <td>1</td>\n",
       "    </tr>\n",
       "  </tbody>\n",
       "</table>\n",
       "<p>1270 rows × 6 columns</p>\n",
       "</div>"
      ],
      "text/plain": [
       "      round  amount  product_Cover  product_Grill  product_LED  product_Screw\n",
       "0         3    2000              1              0            0              0\n",
       "1         3       0              0              0            0              1\n",
       "2         3       0              0              0            1              0\n",
       "3         3       0              0              1            0              0\n",
       "4         4       0              1              0            0              0\n",
       "...     ...     ...            ...            ...          ...            ...\n",
       "1265    199       0              0              0            0              1\n",
       "1266    199       0              0              0            1              0\n",
       "1267    199    9000              0              1            0              0\n",
       "1268    200       0              1              0            0              0\n",
       "1269    200   20000              0              0            0              1\n",
       "\n",
       "[1270 rows x 6 columns]"
      ]
     },
     "execution_count": 21,
     "metadata": {},
     "output_type": "execute_result"
    }
   ],
   "source": [
    "train_data"
   ]
  },
  {
   "cell_type": "code",
   "execution_count": 22,
   "id": "c8dffdd1",
   "metadata": {},
   "outputs": [
    {
     "data": {
      "text/html": [
       "<div>\n",
       "<style scoped>\n",
       "    .dataframe tbody tr th:only-of-type {\n",
       "        vertical-align: middle;\n",
       "    }\n",
       "\n",
       "    .dataframe tbody tr th {\n",
       "        vertical-align: top;\n",
       "    }\n",
       "\n",
       "    .dataframe thead th {\n",
       "        text-align: right;\n",
       "    }\n",
       "</style>\n",
       "<table border=\"1\" class=\"dataframe\">\n",
       "  <thead>\n",
       "    <tr style=\"text-align: right;\">\n",
       "      <th></th>\n",
       "      <th>round</th>\n",
       "      <th>amount</th>\n",
       "      <th>product_Cover</th>\n",
       "      <th>product_Grill</th>\n",
       "      <th>product_LED</th>\n",
       "      <th>product_Screw</th>\n",
       "    </tr>\n",
       "  </thead>\n",
       "  <tbody>\n",
       "    <tr>\n",
       "      <th>1270</th>\n",
       "      <td>200</td>\n",
       "      <td>10000</td>\n",
       "      <td>0</td>\n",
       "      <td>0</td>\n",
       "      <td>1</td>\n",
       "      <td>0</td>\n",
       "    </tr>\n",
       "    <tr>\n",
       "      <th>1271</th>\n",
       "      <td>200</td>\n",
       "      <td>0</td>\n",
       "      <td>0</td>\n",
       "      <td>1</td>\n",
       "      <td>0</td>\n",
       "      <td>0</td>\n",
       "    </tr>\n",
       "    <tr>\n",
       "      <th>1272</th>\n",
       "      <td>200</td>\n",
       "      <td>2</td>\n",
       "      <td>1</td>\n",
       "      <td>0</td>\n",
       "      <td>0</td>\n",
       "      <td>0</td>\n",
       "    </tr>\n",
       "    <tr>\n",
       "      <th>1273</th>\n",
       "      <td>200</td>\n",
       "      <td>0</td>\n",
       "      <td>0</td>\n",
       "      <td>0</td>\n",
       "      <td>0</td>\n",
       "      <td>1</td>\n",
       "    </tr>\n",
       "    <tr>\n",
       "      <th>1274</th>\n",
       "      <td>200</td>\n",
       "      <td>0</td>\n",
       "      <td>0</td>\n",
       "      <td>0</td>\n",
       "      <td>1</td>\n",
       "      <td>0</td>\n",
       "    </tr>\n",
       "    <tr>\n",
       "      <th>...</th>\n",
       "      <td>...</td>\n",
       "      <td>...</td>\n",
       "      <td>...</td>\n",
       "      <td>...</td>\n",
       "      <td>...</td>\n",
       "      <td>...</td>\n",
       "    </tr>\n",
       "    <tr>\n",
       "      <th>1583</th>\n",
       "      <td>240</td>\n",
       "      <td>0</td>\n",
       "      <td>0</td>\n",
       "      <td>1</td>\n",
       "      <td>0</td>\n",
       "      <td>0</td>\n",
       "    </tr>\n",
       "    <tr>\n",
       "      <th>1584</th>\n",
       "      <td>240</td>\n",
       "      <td>0</td>\n",
       "      <td>1</td>\n",
       "      <td>0</td>\n",
       "      <td>0</td>\n",
       "      <td>0</td>\n",
       "    </tr>\n",
       "    <tr>\n",
       "      <th>1585</th>\n",
       "      <td>240</td>\n",
       "      <td>40000</td>\n",
       "      <td>0</td>\n",
       "      <td>0</td>\n",
       "      <td>0</td>\n",
       "      <td>1</td>\n",
       "    </tr>\n",
       "    <tr>\n",
       "      <th>1586</th>\n",
       "      <td>240</td>\n",
       "      <td>0</td>\n",
       "      <td>0</td>\n",
       "      <td>0</td>\n",
       "      <td>1</td>\n",
       "      <td>0</td>\n",
       "    </tr>\n",
       "    <tr>\n",
       "      <th>1587</th>\n",
       "      <td>240</td>\n",
       "      <td>0</td>\n",
       "      <td>0</td>\n",
       "      <td>1</td>\n",
       "      <td>0</td>\n",
       "      <td>0</td>\n",
       "    </tr>\n",
       "  </tbody>\n",
       "</table>\n",
       "<p>318 rows × 6 columns</p>\n",
       "</div>"
      ],
      "text/plain": [
       "      round  amount  product_Cover  product_Grill  product_LED  product_Screw\n",
       "1270    200   10000              0              0            1              0\n",
       "1271    200       0              0              1            0              0\n",
       "1272    200       2              1              0            0              0\n",
       "1273    200       0              0              0            0              1\n",
       "1274    200       0              0              0            1              0\n",
       "...     ...     ...            ...            ...          ...            ...\n",
       "1583    240       0              0              1            0              0\n",
       "1584    240       0              1              0            0              0\n",
       "1585    240   40000              0              0            0              1\n",
       "1586    240       0              0              0            1              0\n",
       "1587    240       0              0              1            0              0\n",
       "\n",
       "[318 rows x 6 columns]"
      ]
     },
     "execution_count": 22,
     "metadata": {},
     "output_type": "execute_result"
    }
   ],
   "source": [
    "test_data"
   ]
  },
  {
   "cell_type": "code",
   "execution_count": 23,
   "id": "dcbff787",
   "metadata": {},
   "outputs": [
    {
     "data": {
      "text/plain": [
       "Index(['round', 'amount', 'product_Cover', 'product_Grill', 'product_LED',\n",
       "       'product_Screw'],\n",
       "      dtype='object')"
      ]
     },
     "execution_count": 23,
     "metadata": {},
     "output_type": "execute_result"
    }
   ],
   "source": [
    "train_data.columns"
   ]
  },
  {
   "cell_type": "markdown",
   "id": "3563a448",
   "metadata": {},
   "source": [
    "#### Spliting into training and test sets"
   ]
  },
  {
   "cell_type": "code",
   "execution_count": 24,
   "id": "07f6a8a2",
   "metadata": {},
   "outputs": [],
   "source": [
    "x_train, y_train = train_data[[\"round\", \"product_Cover\", \"product_Grill\", \"product_LED\", \"product_Screw\"]], train_data[\"amount\"]\n",
    "x_test, y_test = test_data[[\"round\", \"product_Cover\", \"product_Grill\", \"product_LED\", \"product_Screw\"]], test_data[\"amount\"]"
   ]
  },
  {
   "cell_type": "code",
   "execution_count": 25,
   "id": "30a65b53",
   "metadata": {},
   "outputs": [],
   "source": [
    "random_forest_model = RandomForestRegressor(n_estimators=100, random_state=0)"
   ]
  },
  {
   "cell_type": "code",
   "execution_count": 26,
   "id": "0fff72d6",
   "metadata": {},
   "outputs": [
    {
     "data": {
      "text/plain": [
       "RandomForestRegressor(random_state=0)"
      ]
     },
     "execution_count": 26,
     "metadata": {},
     "output_type": "execute_result"
    }
   ],
   "source": [
    "random_forest_model.fit(x_train, y_train)"
   ]
  },
  {
   "cell_type": "code",
   "execution_count": 28,
   "id": "c00a5bc6",
   "metadata": {},
   "outputs": [
    {
     "data": {
      "text/plain": [
       "array([ 4987.61904762,  4777.83333333,     0.        , 20348.33333333,\n",
       "        4987.61904762,  4777.83333333,     0.        , 20348.33333333,\n",
       "        4987.61904762,  4777.83333333,     0.        , 20348.33333333,\n",
       "        4987.61904762,  4777.83333333,     0.        , 20348.33333333,\n",
       "        4987.61904762,  4777.83333333,     0.        , 20348.33333333])"
      ]
     },
     "execution_count": 28,
     "metadata": {},
     "output_type": "execute_result"
    }
   ],
   "source": [
    "rfr_predictions = random_forest_model.predict(x_test)\n",
    "rfr_predictions[:20]  # first 20 predictions"
   ]
  },
  {
   "cell_type": "code",
   "execution_count": 29,
   "id": "c8589794",
   "metadata": {},
   "outputs": [
    {
     "name": "stdout",
     "output_type": "stream",
     "text": [
      "Random Forest Mean Absolute Error = 11535.387091943696\n",
      "Random Forest Root Mean Squared Error = 16743.466967419565\n"
     ]
    }
   ],
   "source": [
    "mae = mean_absolute_error(y_test, rfr_predictions)\n",
    "rmse = np.sqrt(mean_squared_error(y_test, rfr_predictions))\n",
    "\n",
    "print(f\"Random Forest Mean Absolute Error = {mae}\")\n",
    "print(f\"Random Forest Root Mean Squared Error = {rmse}\")"
   ]
  },
  {
   "cell_type": "markdown",
   "id": "242628df",
   "metadata": {},
   "source": [
    "### Visualising Model Performance"
   ]
  },
  {
   "cell_type": "code",
   "execution_count": 32,
   "id": "d882820b",
   "metadata": {},
   "outputs": [
    {
     "data": {
      "text/plain": [
       "9944.974842767295"
      ]
     },
     "execution_count": 32,
     "metadata": {},
     "output_type": "execute_result"
    }
   ],
   "source": [
    "average_sales = test_data[\"amount\"].mean()\n",
    "average_sales"
   ]
  },
  {
   "cell_type": "code",
   "execution_count": 38,
   "id": "0d34fc05",
   "metadata": {},
   "outputs": [
    {
     "data": {
      "image/png": "[encoded data removed]",
      "text/plain": [
       "<Figure size 864x576 with 1 Axes>"
      ]
     },
     "metadata": {
      "needs_background": "light"
     },
     "output_type": "display_data"
    }
   ],
   "source": [
    "plt.figure(figsize=(12, 8))\n",
    "plt.title(\"Random Forest Predictions plotted against Actual Values\")\n",
    "plt.scatter(test_data[\"round\"], test_data[\"amount\"], label=\"Actual\", marker=\"o\", color=\"red\")\n",
    "plt.scatter(test_data[\"round\"], rfr_predictions, label=\"Model Predictions\", marker=\"o\", alpha=0.3, color=\"green\")\n",
    "plt.axhline(y=average_sales, color=\"black\", linestyle=\"--\", linewidth=2, label=\"Average Amount\")\n",
    "plt.xlabel(\"Round\")\n",
    "plt.ylabel(\"Product Units Sold\")\n",
    "plt.legend()\n",
    "plt.show()"
   ]
  },
  {
   "cell_type": "markdown",
   "id": "d8507f61",
   "metadata": {},
   "source": [
    "### Model Analysis"
   ]
  },
  {
   "cell_type": "markdown",
   "id": "74b8814e",
   "metadata": {},
   "source": [
    "MAE (Mean Absolute Error) is a measure that calculates the average absolute difference between the actual values and the values that have been predicted by the model. In other words, this measure allows us to observe how close or far off, on average, the model's predictions are from the actual values. The lower this measure is, the better. This is viewed as a good indication of the model's performance.\n",
    "\n",
    "Root Mean Squared Error (RMSE) is a similar measure to MAE but differs in its ability to give more weight to large errors because it takes the square root of the average squared differences between the model's predicted values and the actual values from the dataset. RMSE penalises large errors contributing to the model's sensitivity to outliers. The same applies for RMSE, the lower the score, the better.\n",
    "\n",
    "These values returned reveal that the model is performing poorly. This is likely due to many factors that are not only limited to the data (its structure, the values provided, statistics, etc.) but the paramters of the model. One parameter `n_estimators` will be tuned to observe the effect it has on the performance of the model. `n_estimators` refers to the number of \"trees\" in the random forest model. The next model will be tuned to have 200 \"trees\" where changes in model performance will be observed."
   ]
  },
  {
   "cell_type": "code",
   "execution_count": 39,
   "id": "5137edc5",
   "metadata": {},
   "outputs": [],
   "source": [
    "# Second model\n",
    "rf_model = RandomForestRegressor(n_estimators=200, random_state=0)"
   ]
  },
  {
   "cell_type": "code",
   "execution_count": 40,
   "id": "1cdd0406",
   "metadata": {},
   "outputs": [
    {
     "data": {
      "text/plain": [
       "RandomForestRegressor(n_estimators=200, random_state=0)"
      ]
     },
     "execution_count": 40,
     "metadata": {},
     "output_type": "execute_result"
    }
   ],
   "source": [
    "# Fitting the training data\n",
    "rf_model.fit(x_train, y_train)"
   ]
  },
  {
   "cell_type": "code",
   "execution_count": 41,
   "id": "46ad72d8",
   "metadata": {},
   "outputs": [
    {
     "data": {
      "text/plain": [
       "array([ 4982.61904762,  4679.25      ,     0.        , 19810.83333333,\n",
       "        4982.61904762,  4679.25      ,     0.        , 19810.83333333,\n",
       "        4982.61904762,  4679.25      ,     0.        , 19810.83333333,\n",
       "        4982.61904762,  4679.25      ,     0.        , 19810.83333333,\n",
       "        4982.61904762,  4679.25      ,     0.        , 19810.83333333])"
      ]
     },
     "execution_count": 41,
     "metadata": {},
     "output_type": "execute_result"
    }
   ],
   "source": [
    "new_preds = rf_model.predict(x_test)\n",
    "new_preds[:20]"
   ]
  },
  {
   "cell_type": "code",
   "execution_count": 42,
   "id": "59eb78aa",
   "metadata": {},
   "outputs": [
    {
     "name": "stdout",
     "output_type": "stream",
     "text": [
      "Random Forest Mean Absolute Error = 11489.039607666966\n",
      "Random Forest Root Mean Squared Error = 16731.15892709944\n"
     ]
    }
   ],
   "source": [
    "mae = mean_absolute_error(y_test, new_preds)\n",
    "rmse = np.sqrt(mean_squared_error(y_test, new_preds))\n",
    "\n",
    "print(f\"Random Forest Mean Absolute Error = {mae}\")\n",
    "print(f\"Random Forest Root Mean Squared Error = {rmse}\")"
   ]
  },
  {
   "cell_type": "markdown",
   "id": "55690747",
   "metadata": {},
   "source": [
    "As seen above, not much has changed. This may reveal that the model requires further tuning, the data requires further preprocessing, or a completely different model should be used altogether. What is clear though is that the model performed poorly, having over-shot and under-shot many of its predictions. This may be a result of the extreme nature of outliers in the data proving to be challenging for the model to handle. It may also just be a simple case of the data not suiting the requirements of the model, requiring further preprocessing."
   ]
  },
  {
   "cell_type": "markdown",
   "id": "bc0bd6e1",
   "metadata": {},
   "source": [
    "# Closing"
   ]
  },
  {
   "cell_type": "markdown",
   "id": "ec16d37c",
   "metadata": {},
   "source": [
    "Link to the final report: https://docs.google.com/document/d/1GOpq_3BOMxbnap3I7gSrr7aJL6zMnzZ_GbY2hIXhoA8/edit?usp=sharing\n",
    "\n",
    "The above analysis has provided an opportunity to observe many contributors of the sudden change in demand for certain products. It is clear that demand for products exploded possibly leaving the supplier in a situation where varying orders are received, but not handled well. This is most likely the contributor of the large backlog observed earlier in this analysis, a symptom of the `bullwhip effect` phenomenon where a sudden change in demand creates a ripple effect that has a profound impact on key supply chain partners. \n",
    "\n",
    "A further analysis of the effect and how it came to be may produce the desired results and lead to the implementation of better and more comprehensive learning models that identify and observe patterns, and generate predicitions that may be used to adjust the production strategy of the supplier. As the strategy may be considered a failure in the context of the game, improvements related to forecasting must be implemented to prevent a re-occurrence of this phenomenon.\n",
    "\n",
    "#### Sources:\n",
    "\n",
    "https://www.analyticsvidhya.com/blog/2020/03/beginners-guide-random-forest-hyperparameter-tuning/#:~:text=But%20by%20choosing%20more%20number,Random%20Forest%20model%20also%20increases.&text=This%20means%20that%20choosing%20a,is%20not%20the%20best%20idea\n",
    "<br><br>\n",
    "https://en.wikipedia.org/wiki/Box_plot\n",
    "<br><br>\n",
    "https://dietassessmentprimer.cancer.gov/learn/outliers.html#:~:text=Outliers%20are%20important%20because%20they,Learn%20More%20about%20Normal%20Distributions).\n",
    "<br><br>\n",
    "https://www.dummies.com/article/academics-the-arts/math/statistics/what-a-boxplot-can-tell-you-about-a-statistical-data-set-169773/\n",
    "<br><br>\n",
    "https://www.techtarget.com/searcherp/definition/bullwhip-effect\n"
   ]
  }
 ],
 "metadata": {
  "kernelspec": {
   "display_name": "Python 3 (ipykernel)",
   "language": "python",
   "name": "python3"
  },
  "language_info": {
   "codemirror_mode": {
    "name": "ipython",
    "version": 3
   },
   "file_extension": ".py",
   "mimetype": "text/x-python",
   "name": "python",
   "nbconvert_exporter": "python",
   "pygments_lexer": "ipython3",
   "version": "3.9.12"
  }
 },
 "nbformat": 4,
 "nbformat_minor": 5
}
